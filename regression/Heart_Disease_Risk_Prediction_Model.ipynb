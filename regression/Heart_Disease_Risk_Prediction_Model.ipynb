{
 "cells": [
  {
   "cell_type": "markdown",
   "metadata": {
    "id": "OGKMEnHCqqIR"
   },
   "source": [
    "#Problem Definition\r\n",
    "Given clinical parameters about a patient, can we predict whether or not they have heart disease?\r\n",
    "\r\n",
    "# Features\r\n",
    "Explanation of fields in dataset\r\n",
    "\r\n",
    "## Data Dictionary\r\n",
    "1. `age` - age in years\r\n",
    "2. `sex` - (1 = male; 0 = female)\r\n",
    "3. `cp` - chest pain type\r\n",
    "    * 0: Typical angina\r\n",
    "    * 1: Atypical angina\r\n",
    "    * 2: Non-anginal pain\r\n",
    "    * 3: Asymptomatic\r\n",
    "4. `trestbps` - resting blood pressure (in mm Hg on admission to the hospital) \r\n",
    "5. `chol` - Serum cholesterole in mg/dl\r\n",
    "6. `fbs` - (fasting blood sugar > 120 mg/dl) (1 = true; 0 = false)\r\n",
    "7. `restecg` - resting electrocardiographic results\r\n",
    "    * 0: Nothing to note\r\n",
    "    * 1: ST-T Wave abnormality\r\n",
    "    * 2: Possible or definite left ventricular hypertrophy\r\n",
    "8. `thalach` - maximum heart rate achieved\r\n",
    "9. `exang` - exercise induced angina (1 = yes; 0 = no)\r\n",
    "10. `oldpeak` - ST depression induced by exercise relative to rest looks at stress of heart during excercise unhealthy heart will stress more\r\n",
    "11. `slope` - the slope of the peak exercise ST segment\r\n",
    "    * 0: Upsloping: better heart rate with excercise (uncommon)\r\n",
    "    * 1: Flatsloping: minimal change (typical healthy heart)\r\n",
    "    * 2: Downslopins: signs of unhealthy heart\r\n",
    "12. `ca` - number of major vessels (0-3) colored by flourosopy\r\n",
    "    * colored vessel means the doctor can see the blood passing through\r\n",
    "    * the more blood movement the better (no clots)\r\n",
    "13. `thal` - thalium stress result\r\n",
    "    * 1,3: normal\r\n",
    "    * 6: fixed defect: used to be defect but ok now\r\n",
    "    * 7: reversable defect: no proper blood movement when excercising\r\n",
    "14. `target` - have disease or not (1=yes, 0=no) (= the predicted attribute)"
   ]
  },
  {
   "cell_type": "markdown",
   "metadata": {
    "id": "5z6BMzaapkkK"
   },
   "source": [
    "# Introduction\r\n",
    "First, load the appropriate libraries."
   ]
  },
  {
   "cell_type": "code",
   "execution_count": 1,
   "metadata": {
    "colab": {
     "base_uri": "https://localhost:8080/"
    },
    "id": "VtX0jjtkmboi",
    "outputId": "c4cf3867-028b-478d-ae37-b7cd4a8eef07"
   },
   "outputs": [
    {
     "name": "stdout",
     "output_type": "stream",
     "text": [
      "\u001b[33m  WARNING: Built wheel for tensorflow-docs is invalid: Metadata 1.2 mandates PEP 440 version, but '0.0.067b315b6bfa13cf6f6d42d4c9fdecc7fa1502c04-' is not\u001b[0m\n",
      "\u001b[33m  DEPRECATION: tensorflow-docs was installed using the legacy 'setup.py install' method, because a wheel could not be built for it. A possible replacement is to fix the wheel build issue reported above. You can find discussion regarding this at https://github.com/pypa/pip/issues/8368.\u001b[0m\n"
     ]
    },
    {
     "ename": "ModuleNotFoundError",
     "evalue": "No module named 'keras'",
     "output_type": "error",
     "traceback": [
      "\u001b[0;31m---------------------------------------------------------------------------\u001b[0m",
      "\u001b[0;31mModuleNotFoundError\u001b[0m                       Traceback (most recent call last)",
      "\u001b[0;32m<ipython-input-1-e11f69746712>\u001b[0m in \u001b[0;36m<module>\u001b[0;34m\u001b[0m\n\u001b[1;32m     13\u001b[0m \u001b[0;32mfrom\u001b[0m \u001b[0mtensorflow\u001b[0m \u001b[0;32mimport\u001b[0m \u001b[0mkeras\u001b[0m\u001b[0;34m\u001b[0m\u001b[0;34m\u001b[0m\u001b[0m\n\u001b[1;32m     14\u001b[0m \u001b[0;32mfrom\u001b[0m \u001b[0mtensorflow\u001b[0m\u001b[0;34m.\u001b[0m\u001b[0mkeras\u001b[0m \u001b[0;32mimport\u001b[0m \u001b[0mlayers\u001b[0m\u001b[0;34m\u001b[0m\u001b[0;34m\u001b[0m\u001b[0m\n\u001b[0;32m---> 15\u001b[0;31m \u001b[0;32mfrom\u001b[0m \u001b[0mkeras\u001b[0m\u001b[0;34m.\u001b[0m\u001b[0mutils\u001b[0m\u001b[0;34m.\u001b[0m\u001b[0mgeneric_utils\u001b[0m \u001b[0;32mimport\u001b[0m \u001b[0mget_custom_objects\u001b[0m\u001b[0;34m\u001b[0m\u001b[0;34m\u001b[0m\u001b[0m\n\u001b[0m\u001b[1;32m     16\u001b[0m \u001b[0;34m\u001b[0m\u001b[0m\n\u001b[1;32m     17\u001b[0m \u001b[0mprint\u001b[0m\u001b[0;34m(\u001b[0m\u001b[0;34m\"Tensorflow sürümü:\"\u001b[0m\u001b[0;34m,\u001b[0m\u001b[0mtf\u001b[0m\u001b[0;34m.\u001b[0m\u001b[0m__version__\u001b[0m\u001b[0;34m)\u001b[0m\u001b[0;34m\u001b[0m\u001b[0;34m\u001b[0m\u001b[0m\n",
      "\u001b[0;31mModuleNotFoundError\u001b[0m: No module named 'keras'"
     ]
    }
   ],
   "source": [
    "\r\n",
    "!pip install -q seaborn\r\n",
    "\r\n",
    "!pip install -q git+https://github.com/tensorflow/docs\r\n",
    "\r\n",
    "import pathlib\r\n",
    "import matplotlib.pyplot as plt\r\n",
    "import numpy as np\r\n",
    "import pandas as pd\r\n",
    "import seaborn as sns\r\n",
    "from scipy import stats\r\n",
    "import tensorflow as tf\r\n",
    "\r\n",
    "from tensorflow import keras\r\n",
    "from tensorflow.keras import layers\r\n",
    "from keras.utils.generic_utils import get_custom_objects\r\n",
    "\r\n",
    "print(\"Tensorflow sürümü:\",tf.__version__)\r\n",
    "\r\n",
    "import tensorflow_docs as tfdocs\r\n",
    "import tensorflow_docs.plots\r\n",
    "import tensorflow_docs.modeling"
   ]
  },
  {
   "cell_type": "code",
   "execution_count": null,
   "metadata": {
    "colab": {
     "base_uri": "https://localhost:8080/",
     "height": 204
    },
    "id": "OUW5_bN8tQsb",
    "outputId": "4f331381-664a-401b-a678-292d0bdf5efb"
   },
   "outputs": [],
   "source": [
    "dataset_path = \"../data/heart.csv\"\r\n",
    "column_names = [\"Age\",\"Gender\",\"Angina\",\"Rest_BP\",\"Cholesterole\",\"Fasting_BS\",\"ECG\",\"Stress_BPM\",\"SI_Angina\",\"Stress_STDep\",\"Slope\", \"Colored_Vessels\",\"Thalium\",\"Diagnose\"]\r\n",
    "raw_dataset = pd.read_csv(dataset_path, names=column_names,\r\n",
    "                      comment='\\t',\r\n",
    "                      sep=\",\", skipinitialspace=True)\r\n",
    "\r\n",
    "df= raw_dataset.copy()\r\n",
    "df.head()\r\n",
    "#with pd.option_context('display.max_rows', None, 'display.max_columns', None):  # more options can be specified also\r\n",
    "#    print(df)"
   ]
  },
  {
   "cell_type": "code",
   "execution_count": null,
   "metadata": {
    "colab": {
     "base_uri": "https://localhost:8080/"
    },
    "id": "sFcMBIJSvuK7",
    "outputId": "bea0ff09-8949-4431-a665-98e955529dff"
   },
   "outputs": [],
   "source": [
    "df.info()"
   ]
  },
  {
   "cell_type": "code",
   "execution_count": null,
   "metadata": {
    "colab": {
     "base_uri": "https://localhost:8080/",
     "height": 241
    },
    "id": "JkmCs4n-vz6T",
    "outputId": "79991337-39de-49a3-c281-5045144e97ad"
   },
   "outputs": [],
   "source": [
    "df['Gender'] = df['Gender'].map(lambda x: {0: 'Female', 1: 'Male'}.get(x))\r\n",
    "df['Angina'] = df['Angina'].map(lambda x: {0: 'Angina', 1: 'Atypical_Angina', 2: 'Non-Anginal'}.get(x))\r\n",
    "df['Slope'] = df['Slope'].map(lambda x: {0: 'Upsloping', 1: 'Flatsloping', 2: 'Downsloping'}.get(x))\r\n",
    "df['Thalium'] = df['Thalium'].map(lambda x: {6: 'Thalium_Fixed', 7: 'Thalium_Reversable'}.get(x))\r\n",
    "\r\n",
    "df = pd.get_dummies(df, prefix='', prefix_sep='')\r\n",
    "df.head()"
   ]
  },
  {
   "cell_type": "code",
   "execution_count": null,
   "metadata": {
    "id": "TfWbnswxvFIp"
   },
   "outputs": [],
   "source": [
    "train_dataset = df.sample(frac=0.8,random_state=0)\r\n",
    "test_dataset = df.drop(train_dataset.index)"
   ]
  },
  {
   "cell_type": "code",
   "execution_count": null,
   "metadata": {
    "colab": {
     "base_uri": "https://localhost:8080/",
     "height": 743
    },
    "id": "jl5KxZYwB9Ng",
    "outputId": "31341fa5-f5d1-422b-d9af-a897c21e2ceb"
   },
   "outputs": [],
   "source": [
    "sns.pairplot(train_dataset[[\"Age\", \"Cholesterole\", \"Stress_BPM\", \"Rest_BP\"]], diag_kind=\"kde\")"
   ]
  },
  {
   "cell_type": "code",
   "execution_count": null,
   "metadata": {
    "colab": {
     "base_uri": "https://localhost:8080/",
     "height": 576
    },
    "id": "V88-XWaWCkTd",
    "outputId": "a4e3f869-2145-46d7-884a-5682df388265"
   },
   "outputs": [],
   "source": [
    "train_stats = train_dataset.describe()\r\n",
    "train_stats.pop(\"Diagnose\")\r\n",
    "train_stats = train_stats.transpose()\r\n",
    "train_stats"
   ]
  },
  {
   "cell_type": "code",
   "execution_count": null,
   "metadata": {
    "id": "2FQ3ZHxuC98z"
   },
   "outputs": [],
   "source": [
    "train_labels = train_dataset.pop('Diagnose')\r\n",
    "test_labels = test_dataset.pop('Diagnose')\r\n",
    "\r\n",
    "# Normalize Data\r\n",
    "def norm(x):\r\n",
    "  return (x - train_stats['mean']) / train_stats['std']\r\n",
    "\r\n",
    "normed_train_data = norm(train_dataset)\r\n",
    "normed_test_data = norm(test_dataset)"
   ]
  },
  {
   "cell_type": "markdown",
   "metadata": {
    "id": "1HycfmCEDLaZ"
   },
   "source": [
    "# Building Model"
   ]
  },
  {
   "cell_type": "code",
   "execution_count": null,
   "metadata": {
    "colab": {
     "base_uri": "https://localhost:8080/"
    },
    "id": "GUnzLGKYDKxM",
    "outputId": "80941cad-4f07-4ad0-af52-5f956e8bd10b"
   },
   "outputs": [],
   "source": [
    "def build_model():\r\n",
    "  model = keras.Sequential([\r\n",
    "    layers.Dense(64, activation='tanh', input_shape=[len(train_dataset.keys())]),\r\n",
    "    layers.Dense(32, activation='tanh'),\r\n",
    "    layers.Dense(16, activation='tanh'),\r\n",
    "    layers.Dense(16, activation='tanh'),\r\n",
    "    layers.Dense(1, activation='sigmoid'),\r\n",
    "  ])\r\n",
    "\r\n",
    "  optimizer = tf.keras.optimizers.RMSprop(0.001)\r\n",
    "\r\n",
    "  model.compile(loss='mse',\r\n",
    "                optimizer=optimizer,\r\n",
    "                metrics=['mae', 'mse'])\r\n",
    "  return model\r\n",
    "\r\n",
    "model = build_model()\r\n",
    "model.summary()"
   ]
  },
  {
   "cell_type": "markdown",
   "metadata": {
    "id": "ufb-pJOjDZOp"
   },
   "source": [
    "Try short batch"
   ]
  },
  {
   "cell_type": "code",
   "execution_count": null,
   "metadata": {
    "colab": {
     "base_uri": "https://localhost:8080/"
    },
    "id": "HfghL9SFDaSN",
    "outputId": "9a17f593-4dc5-4e83-e5d2-3dbf82d9069c"
   },
   "outputs": [],
   "source": [
    "example_batch = normed_train_data[:10]\r\n",
    "example_result = model.predict(example_batch)\r\n",
    "example_result"
   ]
  },
  {
   "cell_type": "code",
   "execution_count": null,
   "metadata": {
    "colab": {
     "base_uri": "https://localhost:8080/"
    },
    "id": "1xbRSGSmDfjM",
    "outputId": "22680289-a432-4b27-f65c-5a031b2ff02a"
   },
   "outputs": [],
   "source": [
    "EPOCHS = 500\r\n",
    "\r\n",
    "history = model.fit(\r\n",
    "  normed_train_data, train_labels,\r\n",
    "  epochs=EPOCHS, validation_split = 0.2, verbose=0,\r\n",
    "  callbacks=[tfdocs.modeling.EpochDots()])"
   ]
  },
  {
   "cell_type": "code",
   "execution_count": null,
   "metadata": {
    "colab": {
     "base_uri": "https://localhost:8080/",
     "height": 204
    },
    "id": "Syk8LUWdDj8g",
    "outputId": "be952921-e5cb-424f-f7b2-7bea4bc21991"
   },
   "outputs": [],
   "source": [
    "hist = pd.DataFrame(history.history)\r\n",
    "hist['epoch'] = history.epoch\r\n",
    "hist.tail()"
   ]
  },
  {
   "cell_type": "code",
   "execution_count": null,
   "metadata": {
    "id": "I1YBaPaxDm0Y"
   },
   "outputs": [],
   "source": [
    "plotter = tfdocs.plots.HistoryPlotter(smoothing_std=2)"
   ]
  },
  {
   "cell_type": "code",
   "execution_count": null,
   "metadata": {
    "colab": {
     "base_uri": "https://localhost:8080/",
     "height": 300
    },
    "id": "zsfLo8PoDok3",
    "outputId": "81995df0-bdb9-4764-86af-1b76f85f6753"
   },
   "outputs": [],
   "source": [
    "plotter.plot({'Basic': history}, metric = \"mae\")\r\n",
    "plt.ylim([0, 1])\r\n",
    "plt.ylabel('MAE [MPG]')"
   ]
  },
  {
   "cell_type": "code",
   "execution_count": null,
   "metadata": {
    "colab": {
     "base_uri": "https://localhost:8080/",
     "height": 300
    },
    "id": "x-QVDw0SDqNY",
    "outputId": "47e62618-7066-4405-f7c6-d4390ac873fe"
   },
   "outputs": [],
   "source": [
    "plotter.plot({'Basic': history}, metric = \"mse\")\r\n",
    "plt.ylim([0, 1])\r\n",
    "plt.ylabel('MSE [MPG^2]')"
   ]
  },
  {
   "cell_type": "code",
   "execution_count": null,
   "metadata": {
    "colab": {
     "base_uri": "https://localhost:8080/"
    },
    "id": "KCnAIS3ODtHG",
    "outputId": "f2ea8365-1f32-4f83-a2a2-9bbf182839da"
   },
   "outputs": [],
   "source": [
    "model = build_model()\r\n",
    "\r\n",
    "# The patience parameter is the amount of epochs to check for improvement\r\n",
    "early_stop = keras.callbacks.EarlyStopping(monitor='val_loss', patience=20)\r\n",
    "\r\n",
    "early_history = model.fit(normed_train_data, train_labels, \r\n",
    "                    epochs=EPOCHS, validation_split = 0.2, verbose=0, \r\n",
    "                    callbacks=[early_stop, tfdocs.modeling.EpochDots()])"
   ]
  },
  {
   "cell_type": "code",
   "execution_count": null,
   "metadata": {
    "colab": {
     "base_uri": "https://localhost:8080/",
     "height": 300
    },
    "id": "Us32399eDw3V",
    "outputId": "858457e2-317e-4dea-f80f-862abf87934e"
   },
   "outputs": [],
   "source": [
    "plotter.plot({'Early Stopping': early_history}, metric = \"mae\")\r\n",
    "plt.ylim([0, 1])\r\n",
    "plt.ylabel('MAE [MPG]')"
   ]
  },
  {
   "cell_type": "code",
   "execution_count": null,
   "metadata": {
    "colab": {
     "base_uri": "https://localhost:8080/"
    },
    "id": "fgaWrvpnD09D",
    "outputId": "357f6fa4-07a1-439d-cf4f-dbcd132d0e68"
   },
   "outputs": [],
   "source": [
    "loss, mae, mse = model.evaluate(normed_test_data, test_labels, verbose=2)\r\n",
    "\r\n",
    "print(\"Testing set Mean Abs Error: {:5.2f} MPG\".format(mae))"
   ]
  },
  {
   "cell_type": "code",
   "execution_count": null,
   "metadata": {
    "colab": {
     "base_uri": "https://localhost:8080/",
     "height": 283
    },
    "id": "uf73BYrBD5zs",
    "outputId": "46e301a4-5e92-4fe9-af2f-fd65ad0c9f32"
   },
   "outputs": [],
   "source": [
    "test_predictions = model.predict(normed_test_data).flatten()\r\n",
    "\r\n",
    "a = plt.axes(aspect='equal')\r\n",
    "plt.scatter(test_labels, test_predictions)\r\n",
    "plt.xlabel('True Values [MPG]')\r\n",
    "plt.ylabel('Predictions [MPG]')\r\n",
    "lims = [0, 1]\r\n",
    "plt.xlim(lims)\r\n",
    "plt.ylim(lims)\r\n",
    "_ = plt.plot(lims, lims)\r\n"
   ]
  },
  {
   "cell_type": "code",
   "execution_count": null,
   "metadata": {
    "colab": {
     "base_uri": "https://localhost:8080/",
     "height": 279
    },
    "id": "ZLD7GgcjD7oL",
    "outputId": "49038cf3-e0d8-4922-a267-f8b3dc2902ea"
   },
   "outputs": [],
   "source": [
    "\r\n",
    "error = test_predictions - test_labels\r\n",
    "plt.hist(error, bins = 100)\r\n",
    "\r\n",
    "plt.xlabel(\"Prediction Error [MPG]\")\r\n",
    "_ = plt.ylabel(\"Count\")"
   ]
  },
  {
   "cell_type": "code",
   "execution_count": null,
   "metadata": {
    "colab": {
     "base_uri": "https://localhost:8080/"
    },
    "id": "XZEr03quD-S1",
    "outputId": "7b6aef5d-e73c-41cf-9d41-d8957b9951b9"
   },
   "outputs": [],
   "source": [
    "\r\n",
    "print(np.mean(error))\r\n",
    "print(np.std(error))\r\n",
    "print(len(error))\r\n",
    "model.save('trained_model.h5')"
   ]
  },
  {
   "cell_type": "code",
   "execution_count": null,
   "metadata": {
    "colab": {
     "base_uri": "https://localhost:8080/"
    },
    "id": "4s6J_LsOEz5u",
    "outputId": "1f95c9f1-5968-4775-d7c9-55f746890abd"
   },
   "outputs": [],
   "source": [
    "test_dataset_merged = pd.DataFrame(test_labels, columns=['Diagnose'])\r\n",
    "#test_dataset_merged['Diagnose'] = test_labels\r\n",
    "test_dataset_merged['Prediction'] = test_predictions\r\n",
    "\r\n",
    "with pd.option_context('display.max_rows', None, 'display.max_columns', None):  # more options can be specified also\r\n",
    "    print(test_dataset_merged)"
   ]
  }
 ],
 "metadata": {
  "colab": {
   "collapsed_sections": [],
   "name": "Heart Disease Risk Prediction Model.ipynb",
   "provenance": [],
   "toc_visible": true
  },
  "kernelspec": {
   "display_name": "Python 3",
   "language": "python",
   "name": "python3"
  },
  "language_info": {
   "codemirror_mode": {
    "name": "ipython",
    "version": 3
   },
   "file_extension": ".py",
   "mimetype": "text/x-python",
   "name": "python",
   "nbconvert_exporter": "python",
   "pygments_lexer": "ipython3",
   "version": "3.8.5"
  }
 },
 "nbformat": 4,
 "nbformat_minor": 4
}
