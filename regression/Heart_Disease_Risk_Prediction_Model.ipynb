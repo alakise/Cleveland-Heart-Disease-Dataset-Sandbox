{
  "nbformat": 4,
  "nbformat_minor": 0,
  "metadata": {
    "colab": {
      "name": "Heart Disease Risk Prediction Model.ipynb",
      "provenance": [],
      "collapsed_sections": [],
      "toc_visible": true
    },
    "kernelspec": {
      "name": "python3",
      "display_name": "Python 3"
    }
  },
  "cells": [
    {
      "cell_type": "markdown",
      "metadata": {
        "id": "OGKMEnHCqqIR"
      },
      "source": [
        "#Problem Definition\r\n",
        "Given clinical parameters about a patient, can we predict whether or not they have heart disease?\r\n",
        "\r\n",
        "# Features\r\n",
        "Explanation of fields in dataset\r\n",
        "\r\n",
        "## Data Dictionary\r\n",
        "1. `age` - age in years\r\n",
        "2. `sex` - (1 = male; 0 = female)\r\n",
        "3. `cp` - chest pain type\r\n",
        "    * 0: Typical angina\r\n",
        "    * 1: Atypical angina\r\n",
        "    * 2: Non-anginal pain\r\n",
        "    * 3: Asymptomatic\r\n",
        "4. `trestbps` - resting blood pressure (in mm Hg on admission to the hospital) \r\n",
        "5. `chol` - Serum cholesterole in mg/dl\r\n",
        "6. `fbs` - (fasting blood sugar > 120 mg/dl) (1 = true; 0 = false)\r\n",
        "7. `restecg` - resting electrocardiographic results\r\n",
        "    * 0: Nothing to note\r\n",
        "    * 1: ST-T Wave abnormality\r\n",
        "    * 2: Possible or definite left ventricular hypertrophy\r\n",
        "8. `thalach` - maximum heart rate achieved\r\n",
        "9. `exang` - exercise induced angina (1 = yes; 0 = no)\r\n",
        "10. `oldpeak` - ST depression induced by exercise relative to rest looks at stress of heart during excercise unhealthy heart will stress more\r\n",
        "11. `slope` - the slope of the peak exercise ST segment\r\n",
        "    * 0: Upsloping: better heart rate with excercise (uncommon)\r\n",
        "    * 1: Flatsloping: minimal change (typical healthy heart)\r\n",
        "    * 2: Downslopins: signs of unhealthy heart\r\n",
        "12. `ca` - number of major vessels (0-3) colored by flourosopy\r\n",
        "    * colored vessel means the doctor can see the blood passing through\r\n",
        "    * the more blood movement the better (no clots)\r\n",
        "13. `thal` - thalium stress result\r\n",
        "    * 1,3: normal\r\n",
        "    * 6: fixed defect: used to be defect but ok now\r\n",
        "    * 7: reversable defect: no proper blood movement when excercising\r\n",
        "14. `target` - have disease or not (1=yes, 0=no) (= the predicted attribute)"
      ]
    },
    {
      "cell_type": "markdown",
      "metadata": {
        "id": "5z6BMzaapkkK"
      },
      "source": [
        "# Introduction\r\n",
        "First, load the appropriate libraries."
      ]
    },
    {
      "cell_type": "code",
      "metadata": {
        "id": "VtX0jjtkmboi",
        "colab": {
          "base_uri": "https://localhost:8080/"
        },
        "outputId": "c4cf3867-028b-478d-ae37-b7cd4a8eef07"
      },
      "source": [
        "\r\n",
        "!pip install -q seaborn\r\n",
        "\r\n",
        "!pip install -q git+https://github.com/tensorflow/docs\r\n",
        "\r\n",
        "import pathlib\r\n",
        "import matplotlib.pyplot as plt\r\n",
        "import numpy as np\r\n",
        "import pandas as pd\r\n",
        "import seaborn as sns\r\n",
        "from scipy import stats\r\n",
        "import tensorflow as tf\r\n",
        "\r\n",
        "from tensorflow import keras\r\n",
        "from tensorflow.keras import layers\r\n",
        "from keras.utils.generic_utils import get_custom_objects\r\n",
        "\r\n",
        "print(\"Tensorflow sürümü:\",tf.__version__)\r\n",
        "\r\n",
        "import tensorflow_docs as tfdocs\r\n",
        "import tensorflow_docs.plots\r\n",
        "import tensorflow_docs.modeling"
      ],
      "execution_count": null,
      "outputs": [
        {
          "output_type": "stream",
          "text": [
            "\u001b[?25l\r\u001b[K     |▎                               | 10kB 19.1MB/s eta 0:00:01\r\u001b[K     |▋                               | 20kB 25.1MB/s eta 0:00:01\r\u001b[K     |█                               | 30kB 12.9MB/s eta 0:00:01\r\u001b[K     |█▎                              | 40kB 9.1MB/s eta 0:00:01\r\u001b[K     |█▋                              | 51kB 4.4MB/s eta 0:00:01\r\u001b[K     |██                              | 61kB 5.1MB/s eta 0:00:01\r\u001b[K     |██▎                             | 71kB 5.0MB/s eta 0:00:01\r\u001b[K     |██▋                             | 81kB 5.5MB/s eta 0:00:01\r\u001b[K     |██▉                             | 92kB 5.8MB/s eta 0:00:01\r\u001b[K     |███▏                            | 102kB 4.3MB/s eta 0:00:01\r\u001b[K     |███▌                            | 112kB 4.3MB/s eta 0:00:01\r\u001b[K     |███▉                            | 122kB 4.3MB/s eta 0:00:01\r\u001b[K     |████▏                           | 133kB 4.3MB/s eta 0:00:01\r\u001b[K     |████▌                           | 143kB 4.3MB/s eta 0:00:01\r\u001b[K     |████▉                           | 153kB 4.3MB/s eta 0:00:01\r\u001b[K     |█████▏                          | 163kB 4.3MB/s eta 0:00:01\r\u001b[K     |█████▌                          | 174kB 4.3MB/s eta 0:00:01\r\u001b[K     |█████▊                          | 184kB 4.3MB/s eta 0:00:01\r\u001b[K     |██████                          | 194kB 4.3MB/s eta 0:00:01\r\u001b[K     |██████▍                         | 204kB 4.3MB/s eta 0:00:01\r\u001b[K     |██████▊                         | 215kB 4.3MB/s eta 0:00:01\r\u001b[K     |███████                         | 225kB 4.3MB/s eta 0:00:01\r\u001b[K     |███████▍                        | 235kB 4.3MB/s eta 0:00:01\r\u001b[K     |███████▊                        | 245kB 4.3MB/s eta 0:00:01\r\u001b[K     |████████                        | 256kB 4.3MB/s eta 0:00:01\r\u001b[K     |████████▎                       | 266kB 4.3MB/s eta 0:00:01\r\u001b[K     |████████▋                       | 276kB 4.3MB/s eta 0:00:01\r\u001b[K     |█████████                       | 286kB 4.3MB/s eta 0:00:01\r\u001b[K     |█████████▎                      | 296kB 4.3MB/s eta 0:00:01\r\u001b[K     |█████████▋                      | 307kB 4.3MB/s eta 0:00:01\r\u001b[K     |██████████                      | 317kB 4.3MB/s eta 0:00:01\r\u001b[K     |██████████▎                     | 327kB 4.3MB/s eta 0:00:01\r\u001b[K     |██████████▋                     | 337kB 4.3MB/s eta 0:00:01\r\u001b[K     |███████████                     | 348kB 4.3MB/s eta 0:00:01\r\u001b[K     |███████████▏                    | 358kB 4.3MB/s eta 0:00:01\r\u001b[K     |███████████▌                    | 368kB 4.3MB/s eta 0:00:01\r\u001b[K     |███████████▉                    | 378kB 4.3MB/s eta 0:00:01\r\u001b[K     |████████████▏                   | 389kB 4.3MB/s eta 0:00:01\r\u001b[K     |████████████▌                   | 399kB 4.3MB/s eta 0:00:01\r\u001b[K     |████████████▉                   | 409kB 4.3MB/s eta 0:00:01\r\u001b[K     |█████████████▏                  | 419kB 4.3MB/s eta 0:00:01\r\u001b[K     |█████████████▌                  | 430kB 4.3MB/s eta 0:00:01\r\u001b[K     |█████████████▊                  | 440kB 4.3MB/s eta 0:00:01\r\u001b[K     |██████████████                  | 450kB 4.3MB/s eta 0:00:01\r\u001b[K     |██████████████▍                 | 460kB 4.3MB/s eta 0:00:01\r\u001b[K     |██████████████▊                 | 471kB 4.3MB/s eta 0:00:01\r\u001b[K     |███████████████                 | 481kB 4.3MB/s eta 0:00:01\r\u001b[K     |███████████████▍                | 491kB 4.3MB/s eta 0:00:01\r\u001b[K     |███████████████▊                | 501kB 4.3MB/s eta 0:00:01\r\u001b[K     |████████████████                | 512kB 4.3MB/s eta 0:00:01\r\u001b[K     |████████████████▍               | 522kB 4.3MB/s eta 0:00:01\r\u001b[K     |████████████████▋               | 532kB 4.3MB/s eta 0:00:01\r\u001b[K     |█████████████████               | 542kB 4.3MB/s eta 0:00:01\r\u001b[K     |█████████████████▎              | 552kB 4.3MB/s eta 0:00:01\r\u001b[K     |█████████████████▋              | 563kB 4.3MB/s eta 0:00:01\r\u001b[K     |██████████████████              | 573kB 4.3MB/s eta 0:00:01\r\u001b[K     |██████████████████▎             | 583kB 4.3MB/s eta 0:00:01\r\u001b[K     |██████████████████▋             | 593kB 4.3MB/s eta 0:00:01\r\u001b[K     |███████████████████             | 604kB 4.3MB/s eta 0:00:01\r\u001b[K     |███████████████████▎            | 614kB 4.3MB/s eta 0:00:01\r\u001b[K     |███████████████████▌            | 624kB 4.3MB/s eta 0:00:01\r\u001b[K     |███████████████████▉            | 634kB 4.3MB/s eta 0:00:01\r\u001b[K     |████████████████████▏           | 645kB 4.3MB/s eta 0:00:01\r\u001b[K     |████████████████████▌           | 655kB 4.3MB/s eta 0:00:01\r\u001b[K     |████████████████████▉           | 665kB 4.3MB/s eta 0:00:01\r\u001b[K     |█████████████████████▏          | 675kB 4.3MB/s eta 0:00:01\r\u001b[K     |█████████████████████▌          | 686kB 4.3MB/s eta 0:00:01\r\u001b[K     |█████████████████████▉          | 696kB 4.3MB/s eta 0:00:01\r\u001b[K     |██████████████████████          | 706kB 4.3MB/s eta 0:00:01\r\u001b[K     |██████████████████████▍         | 716kB 4.3MB/s eta 0:00:01\r\u001b[K     |██████████████████████▊         | 727kB 4.3MB/s eta 0:00:01\r\u001b[K     |███████████████████████         | 737kB 4.3MB/s eta 0:00:01\r\u001b[K     |███████████████████████▍        | 747kB 4.3MB/s eta 0:00:01\r\u001b[K     |███████████████████████▊        | 757kB 4.3MB/s eta 0:00:01\r\u001b[K     |████████████████████████        | 768kB 4.3MB/s eta 0:00:01\r\u001b[K     |████████████████████████▍       | 778kB 4.3MB/s eta 0:00:01\r\u001b[K     |████████████████████████▊       | 788kB 4.3MB/s eta 0:00:01\r\u001b[K     |█████████████████████████       | 798kB 4.3MB/s eta 0:00:01\r\u001b[K     |█████████████████████████▎      | 808kB 4.3MB/s eta 0:00:01\r\u001b[K     |█████████████████████████▋      | 819kB 4.3MB/s eta 0:00:01\r\u001b[K     |██████████████████████████      | 829kB 4.3MB/s eta 0:00:01\r\u001b[K     |██████████████████████████▎     | 839kB 4.3MB/s eta 0:00:01\r\u001b[K     |██████████████████████████▋     | 849kB 4.3MB/s eta 0:00:01\r\u001b[K     |███████████████████████████     | 860kB 4.3MB/s eta 0:00:01\r\u001b[K     |███████████████████████████▎    | 870kB 4.3MB/s eta 0:00:01\r\u001b[K     |███████████████████████████▌    | 880kB 4.3MB/s eta 0:00:01\r\u001b[K     |███████████████████████████▉    | 890kB 4.3MB/s eta 0:00:01\r\u001b[K     |████████████████████████████▏   | 901kB 4.3MB/s eta 0:00:01\r\u001b[K     |████████████████████████████▌   | 911kB 4.3MB/s eta 0:00:01\r\u001b[K     |████████████████████████████▉   | 921kB 4.3MB/s eta 0:00:01\r\u001b[K     |█████████████████████████████▏  | 931kB 4.3MB/s eta 0:00:01\r\u001b[K     |█████████████████████████████▌  | 942kB 4.3MB/s eta 0:00:01\r\u001b[K     |█████████████████████████████▉  | 952kB 4.3MB/s eta 0:00:01\r\u001b[K     |██████████████████████████████▏ | 962kB 4.3MB/s eta 0:00:01\r\u001b[K     |██████████████████████████████▍ | 972kB 4.3MB/s eta 0:00:01\r\u001b[K     |██████████████████████████████▊ | 983kB 4.3MB/s eta 0:00:01\r\u001b[K     |███████████████████████████████ | 993kB 4.3MB/s eta 0:00:01\r\u001b[K     |███████████████████████████████▍| 1.0MB 4.3MB/s eta 0:00:01\r\u001b[K     |███████████████████████████████▊| 1.0MB 4.3MB/s eta 0:00:01\r\u001b[K     |████████████████████████████████| 1.0MB 4.3MB/s \n",
            "\u001b[?25h  Building wheel for tensorflow-docs (setup.py) ... \u001b[?25l\u001b[?25hdone\n",
            "Tensorflow sürümü: 2.4.1\n"
          ],
          "name": "stdout"
        }
      ]
    },
    {
      "cell_type": "code",
      "metadata": {
        "id": "OUW5_bN8tQsb",
        "colab": {
          "base_uri": "https://localhost:8080/",
          "height": 204
        },
        "outputId": "4f331381-664a-401b-a678-292d0bdf5efb"
      },
      "source": [
        "dataset_path = \"heart.csv\"\r\n",
        "column_names = [\"Age\",\"Gender\",\"Angina\",\"Rest_BP\",\"Cholesterole\",\"Fasting_BS\",\"ECG\",\"Stress_BPM\",\"SI_Angina\",\"Stress_STDep\",\"Slope\", \"Colored_Vessels\",\"Thalium\",\"Diagnose\"]\r\n",
        "raw_dataset = pd.read_csv(dataset_path, names=column_names,\r\n",
        "                      comment='\\t',\r\n",
        "                      sep=\",\", skipinitialspace=True)\r\n",
        "\r\n",
        "df= raw_dataset.copy()\r\n",
        "df.head()\r\n",
        "#with pd.option_context('display.max_rows', None, 'display.max_columns', None):  # more options can be specified also\r\n",
        "#    print(df)"
      ],
      "execution_count": null,
      "outputs": [
        {
          "output_type": "execute_result",
          "data": {
            "text/html": [
              "<div>\n",
              "<style scoped>\n",
              "    .dataframe tbody tr th:only-of-type {\n",
              "        vertical-align: middle;\n",
              "    }\n",
              "\n",
              "    .dataframe tbody tr th {\n",
              "        vertical-align: top;\n",
              "    }\n",
              "\n",
              "    .dataframe thead th {\n",
              "        text-align: right;\n",
              "    }\n",
              "</style>\n",
              "<table border=\"1\" class=\"dataframe\">\n",
              "  <thead>\n",
              "    <tr style=\"text-align: right;\">\n",
              "      <th></th>\n",
              "      <th>Age</th>\n",
              "      <th>Gender</th>\n",
              "      <th>Angina</th>\n",
              "      <th>Rest_BP</th>\n",
              "      <th>Cholesterole</th>\n",
              "      <th>Fasting_BS</th>\n",
              "      <th>ECG</th>\n",
              "      <th>Stress_BPM</th>\n",
              "      <th>SI_Angina</th>\n",
              "      <th>Stress_STDep</th>\n",
              "      <th>Slope</th>\n",
              "      <th>Colored_Vessels</th>\n",
              "      <th>Thalium</th>\n",
              "      <th>Diagnose</th>\n",
              "    </tr>\n",
              "  </thead>\n",
              "  <tbody>\n",
              "    <tr>\n",
              "      <th>0</th>\n",
              "      <td>63</td>\n",
              "      <td>1</td>\n",
              "      <td>3</td>\n",
              "      <td>145</td>\n",
              "      <td>233</td>\n",
              "      <td>1</td>\n",
              "      <td>0</td>\n",
              "      <td>150</td>\n",
              "      <td>0</td>\n",
              "      <td>2.3</td>\n",
              "      <td>0</td>\n",
              "      <td>0</td>\n",
              "      <td>1</td>\n",
              "      <td>1</td>\n",
              "    </tr>\n",
              "    <tr>\n",
              "      <th>1</th>\n",
              "      <td>37</td>\n",
              "      <td>1</td>\n",
              "      <td>2</td>\n",
              "      <td>130</td>\n",
              "      <td>250</td>\n",
              "      <td>0</td>\n",
              "      <td>1</td>\n",
              "      <td>187</td>\n",
              "      <td>0</td>\n",
              "      <td>3.5</td>\n",
              "      <td>0</td>\n",
              "      <td>0</td>\n",
              "      <td>2</td>\n",
              "      <td>1</td>\n",
              "    </tr>\n",
              "    <tr>\n",
              "      <th>2</th>\n",
              "      <td>41</td>\n",
              "      <td>0</td>\n",
              "      <td>1</td>\n",
              "      <td>130</td>\n",
              "      <td>204</td>\n",
              "      <td>0</td>\n",
              "      <td>0</td>\n",
              "      <td>172</td>\n",
              "      <td>0</td>\n",
              "      <td>1.4</td>\n",
              "      <td>2</td>\n",
              "      <td>0</td>\n",
              "      <td>2</td>\n",
              "      <td>1</td>\n",
              "    </tr>\n",
              "    <tr>\n",
              "      <th>3</th>\n",
              "      <td>56</td>\n",
              "      <td>1</td>\n",
              "      <td>1</td>\n",
              "      <td>120</td>\n",
              "      <td>236</td>\n",
              "      <td>0</td>\n",
              "      <td>1</td>\n",
              "      <td>178</td>\n",
              "      <td>0</td>\n",
              "      <td>0.8</td>\n",
              "      <td>2</td>\n",
              "      <td>0</td>\n",
              "      <td>2</td>\n",
              "      <td>1</td>\n",
              "    </tr>\n",
              "    <tr>\n",
              "      <th>4</th>\n",
              "      <td>57</td>\n",
              "      <td>0</td>\n",
              "      <td>0</td>\n",
              "      <td>120</td>\n",
              "      <td>354</td>\n",
              "      <td>0</td>\n",
              "      <td>1</td>\n",
              "      <td>163</td>\n",
              "      <td>1</td>\n",
              "      <td>0.6</td>\n",
              "      <td>2</td>\n",
              "      <td>0</td>\n",
              "      <td>2</td>\n",
              "      <td>1</td>\n",
              "    </tr>\n",
              "  </tbody>\n",
              "</table>\n",
              "</div>"
            ],
            "text/plain": [
              "   Age  Gender  Angina  Rest_BP  ...  Slope  Colored_Vessels  Thalium  Diagnose\n",
              "0   63       1       3      145  ...      0                0        1         1\n",
              "1   37       1       2      130  ...      0                0        2         1\n",
              "2   41       0       1      130  ...      2                0        2         1\n",
              "3   56       1       1      120  ...      2                0        2         1\n",
              "4   57       0       0      120  ...      2                0        2         1\n",
              "\n",
              "[5 rows x 14 columns]"
            ]
          },
          "metadata": {
            "tags": []
          },
          "execution_count": 101
        }
      ]
    },
    {
      "cell_type": "code",
      "metadata": {
        "colab": {
          "base_uri": "https://localhost:8080/"
        },
        "id": "sFcMBIJSvuK7",
        "outputId": "bea0ff09-8949-4431-a665-98e955529dff"
      },
      "source": [
        "df.info()"
      ],
      "execution_count": null,
      "outputs": [
        {
          "output_type": "stream",
          "text": [
            "<class 'pandas.core.frame.DataFrame'>\n",
            "RangeIndex: 303 entries, 0 to 302\n",
            "Data columns (total 14 columns):\n",
            " #   Column           Non-Null Count  Dtype  \n",
            "---  ------           --------------  -----  \n",
            " 0   Age              303 non-null    int64  \n",
            " 1   Gender           303 non-null    int64  \n",
            " 2   Angina           303 non-null    int64  \n",
            " 3   Rest_BP          303 non-null    int64  \n",
            " 4   Cholesterole     303 non-null    int64  \n",
            " 5   Fasting_BS       303 non-null    int64  \n",
            " 6   ECG              303 non-null    int64  \n",
            " 7   Stress_BPM       303 non-null    int64  \n",
            " 8   SI_Angina        303 non-null    int64  \n",
            " 9   Stress_STDep     303 non-null    float64\n",
            " 10  Slope            303 non-null    int64  \n",
            " 11  Colored_Vessels  303 non-null    int64  \n",
            " 12  Thalium          303 non-null    int64  \n",
            " 13  Diagnose         303 non-null    int64  \n",
            "dtypes: float64(1), int64(13)\n",
            "memory usage: 33.3 KB\n"
          ],
          "name": "stdout"
        }
      ]
    },
    {
      "cell_type": "code",
      "metadata": {
        "colab": {
          "base_uri": "https://localhost:8080/",
          "height": 241
        },
        "id": "JkmCs4n-vz6T",
        "outputId": "79991337-39de-49a3-c281-5045144e97ad"
      },
      "source": [
        "df['Gender'] = df['Gender'].map(lambda x: {0: 'Female', 1: 'Male'}.get(x))\r\n",
        "df['Angina'] = df['Angina'].map(lambda x: {0: 'Angina', 1: 'Atypical_Angina', 2: 'Non-Anginal'}.get(x))\r\n",
        "df['Slope'] = df['Slope'].map(lambda x: {0: 'Upsloping', 1: 'Flatsloping', 2: 'Downsloping'}.get(x))\r\n",
        "df['Thalium'] = df['Thalium'].map(lambda x: {6: 'Thalium_Fixed', 7: 'Thalium_Reversable'}.get(x))\r\n",
        "\r\n",
        "df = pd.get_dummies(df, prefix='', prefix_sep='')\r\n",
        "df.head()"
      ],
      "execution_count": null,
      "outputs": [
        {
          "output_type": "execute_result",
          "data": {
            "text/html": [
              "<div>\n",
              "<style scoped>\n",
              "    .dataframe tbody tr th:only-of-type {\n",
              "        vertical-align: middle;\n",
              "    }\n",
              "\n",
              "    .dataframe tbody tr th {\n",
              "        vertical-align: top;\n",
              "    }\n",
              "\n",
              "    .dataframe thead th {\n",
              "        text-align: right;\n",
              "    }\n",
              "</style>\n",
              "<table border=\"1\" class=\"dataframe\">\n",
              "  <thead>\n",
              "    <tr style=\"text-align: right;\">\n",
              "      <th></th>\n",
              "      <th>Age</th>\n",
              "      <th>Rest_BP</th>\n",
              "      <th>Cholesterole</th>\n",
              "      <th>Fasting_BS</th>\n",
              "      <th>ECG</th>\n",
              "      <th>Stress_BPM</th>\n",
              "      <th>SI_Angina</th>\n",
              "      <th>Stress_STDep</th>\n",
              "      <th>Colored_Vessels</th>\n",
              "      <th>Diagnose</th>\n",
              "      <th>Female</th>\n",
              "      <th>Male</th>\n",
              "      <th>Angina</th>\n",
              "      <th>Atypical_Angina</th>\n",
              "      <th>Non-Anginal</th>\n",
              "      <th>Downsloping</th>\n",
              "      <th>Flatsloping</th>\n",
              "      <th>Upsloping</th>\n",
              "    </tr>\n",
              "  </thead>\n",
              "  <tbody>\n",
              "    <tr>\n",
              "      <th>0</th>\n",
              "      <td>63</td>\n",
              "      <td>145</td>\n",
              "      <td>233</td>\n",
              "      <td>1</td>\n",
              "      <td>0</td>\n",
              "      <td>150</td>\n",
              "      <td>0</td>\n",
              "      <td>2.3</td>\n",
              "      <td>0</td>\n",
              "      <td>1</td>\n",
              "      <td>0</td>\n",
              "      <td>1</td>\n",
              "      <td>0</td>\n",
              "      <td>0</td>\n",
              "      <td>0</td>\n",
              "      <td>0</td>\n",
              "      <td>0</td>\n",
              "      <td>1</td>\n",
              "    </tr>\n",
              "    <tr>\n",
              "      <th>1</th>\n",
              "      <td>37</td>\n",
              "      <td>130</td>\n",
              "      <td>250</td>\n",
              "      <td>0</td>\n",
              "      <td>1</td>\n",
              "      <td>187</td>\n",
              "      <td>0</td>\n",
              "      <td>3.5</td>\n",
              "      <td>0</td>\n",
              "      <td>1</td>\n",
              "      <td>0</td>\n",
              "      <td>1</td>\n",
              "      <td>0</td>\n",
              "      <td>0</td>\n",
              "      <td>1</td>\n",
              "      <td>0</td>\n",
              "      <td>0</td>\n",
              "      <td>1</td>\n",
              "    </tr>\n",
              "    <tr>\n",
              "      <th>2</th>\n",
              "      <td>41</td>\n",
              "      <td>130</td>\n",
              "      <td>204</td>\n",
              "      <td>0</td>\n",
              "      <td>0</td>\n",
              "      <td>172</td>\n",
              "      <td>0</td>\n",
              "      <td>1.4</td>\n",
              "      <td>0</td>\n",
              "      <td>1</td>\n",
              "      <td>1</td>\n",
              "      <td>0</td>\n",
              "      <td>0</td>\n",
              "      <td>1</td>\n",
              "      <td>0</td>\n",
              "      <td>1</td>\n",
              "      <td>0</td>\n",
              "      <td>0</td>\n",
              "    </tr>\n",
              "    <tr>\n",
              "      <th>3</th>\n",
              "      <td>56</td>\n",
              "      <td>120</td>\n",
              "      <td>236</td>\n",
              "      <td>0</td>\n",
              "      <td>1</td>\n",
              "      <td>178</td>\n",
              "      <td>0</td>\n",
              "      <td>0.8</td>\n",
              "      <td>0</td>\n",
              "      <td>1</td>\n",
              "      <td>0</td>\n",
              "      <td>1</td>\n",
              "      <td>0</td>\n",
              "      <td>1</td>\n",
              "      <td>0</td>\n",
              "      <td>1</td>\n",
              "      <td>0</td>\n",
              "      <td>0</td>\n",
              "    </tr>\n",
              "    <tr>\n",
              "      <th>4</th>\n",
              "      <td>57</td>\n",
              "      <td>120</td>\n",
              "      <td>354</td>\n",
              "      <td>0</td>\n",
              "      <td>1</td>\n",
              "      <td>163</td>\n",
              "      <td>1</td>\n",
              "      <td>0.6</td>\n",
              "      <td>0</td>\n",
              "      <td>1</td>\n",
              "      <td>1</td>\n",
              "      <td>0</td>\n",
              "      <td>1</td>\n",
              "      <td>0</td>\n",
              "      <td>0</td>\n",
              "      <td>1</td>\n",
              "      <td>0</td>\n",
              "      <td>0</td>\n",
              "    </tr>\n",
              "  </tbody>\n",
              "</table>\n",
              "</div>"
            ],
            "text/plain": [
              "   Age  Rest_BP  Cholesterole  ...  Downsloping  Flatsloping  Upsloping\n",
              "0   63      145           233  ...            0            0          1\n",
              "1   37      130           250  ...            0            0          1\n",
              "2   41      130           204  ...            1            0          0\n",
              "3   56      120           236  ...            1            0          0\n",
              "4   57      120           354  ...            1            0          0\n",
              "\n",
              "[5 rows x 18 columns]"
            ]
          },
          "metadata": {
            "tags": []
          },
          "execution_count": 103
        }
      ]
    },
    {
      "cell_type": "code",
      "metadata": {
        "id": "TfWbnswxvFIp"
      },
      "source": [
        "train_dataset = df.sample(frac=0.8,random_state=0)\r\n",
        "test_dataset = df.drop(train_dataset.index)"
      ],
      "execution_count": null,
      "outputs": []
    },
    {
      "cell_type": "code",
      "metadata": {
        "colab": {
          "base_uri": "https://localhost:8080/",
          "height": 743
        },
        "id": "jl5KxZYwB9Ng",
        "outputId": "31341fa5-f5d1-422b-d9af-a897c21e2ceb"
      },
      "source": [
        "sns.pairplot(train_dataset[[\"Age\", \"Cholesterole\", \"Stress_BPM\", \"Rest_BP\"]], diag_kind=\"kde\")"
      ],
      "execution_count": null,
      "outputs": [
        {
          "output_type": "execute_result",
          "data": {
            "text/plain": [
              "<seaborn.axisgrid.PairGrid at 0x7efd13933f90>"
            ]
          },
          "metadata": {
            "tags": []
          },
          "execution_count": 106
        },
        {
          "output_type": "display_data",
          "data": {
            "image/png": "[encoded data removed]",
            "text/plain": [
              "<Figure size 720x720 with 20 Axes>"
            ]
          },
          "metadata": {
            "tags": [],
            "needs_background": "light"
          }
        }
      ]
    },
    {
      "cell_type": "code",
      "metadata": {
        "colab": {
          "base_uri": "https://localhost:8080/",
          "height": 576
        },
        "id": "V88-XWaWCkTd",
        "outputId": "a4e3f869-2145-46d7-884a-5682df388265"
      },
      "source": [
        "train_stats = train_dataset.describe()\r\n",
        "train_stats.pop(\"Diagnose\")\r\n",
        "train_stats = train_stats.transpose()\r\n",
        "train_stats"
      ],
      "execution_count": null,
      "outputs": [
        {
          "output_type": "execute_result",
          "data": {
            "text/html": [
              "<div>\n",
              "<style scoped>\n",
              "    .dataframe tbody tr th:only-of-type {\n",
              "        vertical-align: middle;\n",
              "    }\n",
              "\n",
              "    .dataframe tbody tr th {\n",
              "        vertical-align: top;\n",
              "    }\n",
              "\n",
              "    .dataframe thead th {\n",
              "        text-align: right;\n",
              "    }\n",
              "</style>\n",
              "<table border=\"1\" class=\"dataframe\">\n",
              "  <thead>\n",
              "    <tr style=\"text-align: right;\">\n",
              "      <th></th>\n",
              "      <th>count</th>\n",
              "      <th>mean</th>\n",
              "      <th>std</th>\n",
              "      <th>min</th>\n",
              "      <th>25%</th>\n",
              "      <th>50%</th>\n",
              "      <th>75%</th>\n",
              "      <th>max</th>\n",
              "    </tr>\n",
              "  </thead>\n",
              "  <tbody>\n",
              "    <tr>\n",
              "      <th>Age</th>\n",
              "      <td>242.0</td>\n",
              "      <td>54.128099</td>\n",
              "      <td>8.904992</td>\n",
              "      <td>34.0</td>\n",
              "      <td>48.0</td>\n",
              "      <td>54.5</td>\n",
              "      <td>60.75</td>\n",
              "      <td>77.0</td>\n",
              "    </tr>\n",
              "    <tr>\n",
              "      <th>Rest_BP</th>\n",
              "      <td>242.0</td>\n",
              "      <td>131.396694</td>\n",
              "      <td>17.352331</td>\n",
              "      <td>94.0</td>\n",
              "      <td>120.0</td>\n",
              "      <td>130.0</td>\n",
              "      <td>140.00</td>\n",
              "      <td>200.0</td>\n",
              "    </tr>\n",
              "    <tr>\n",
              "      <th>Cholesterole</th>\n",
              "      <td>242.0</td>\n",
              "      <td>247.181818</td>\n",
              "      <td>51.235037</td>\n",
              "      <td>126.0</td>\n",
              "      <td>212.0</td>\n",
              "      <td>241.5</td>\n",
              "      <td>274.00</td>\n",
              "      <td>564.0</td>\n",
              "    </tr>\n",
              "    <tr>\n",
              "      <th>Fasting_BS</th>\n",
              "      <td>242.0</td>\n",
              "      <td>0.144628</td>\n",
              "      <td>0.352454</td>\n",
              "      <td>0.0</td>\n",
              "      <td>0.0</td>\n",
              "      <td>0.0</td>\n",
              "      <td>0.00</td>\n",
              "      <td>1.0</td>\n",
              "    </tr>\n",
              "    <tr>\n",
              "      <th>ECG</th>\n",
              "      <td>242.0</td>\n",
              "      <td>0.528926</td>\n",
              "      <td>0.516522</td>\n",
              "      <td>0.0</td>\n",
              "      <td>0.0</td>\n",
              "      <td>1.0</td>\n",
              "      <td>1.00</td>\n",
              "      <td>2.0</td>\n",
              "    </tr>\n",
              "    <tr>\n",
              "      <th>Stress_BPM</th>\n",
              "      <td>242.0</td>\n",
              "      <td>149.797521</td>\n",
              "      <td>22.935873</td>\n",
              "      <td>71.0</td>\n",
              "      <td>134.5</td>\n",
              "      <td>153.0</td>\n",
              "      <td>167.75</td>\n",
              "      <td>195.0</td>\n",
              "    </tr>\n",
              "    <tr>\n",
              "      <th>SI_Angina</th>\n",
              "      <td>242.0</td>\n",
              "      <td>0.330579</td>\n",
              "      <td>0.471396</td>\n",
              "      <td>0.0</td>\n",
              "      <td>0.0</td>\n",
              "      <td>0.0</td>\n",
              "      <td>1.00</td>\n",
              "      <td>1.0</td>\n",
              "    </tr>\n",
              "    <tr>\n",
              "      <th>Stress_STDep</th>\n",
              "      <td>242.0</td>\n",
              "      <td>0.991322</td>\n",
              "      <td>1.162148</td>\n",
              "      <td>0.0</td>\n",
              "      <td>0.0</td>\n",
              "      <td>0.6</td>\n",
              "      <td>1.60</td>\n",
              "      <td>6.2</td>\n",
              "    </tr>\n",
              "    <tr>\n",
              "      <th>Colored_Vessels</th>\n",
              "      <td>242.0</td>\n",
              "      <td>0.685950</td>\n",
              "      <td>0.985649</td>\n",
              "      <td>0.0</td>\n",
              "      <td>0.0</td>\n",
              "      <td>0.0</td>\n",
              "      <td>1.00</td>\n",
              "      <td>4.0</td>\n",
              "    </tr>\n",
              "    <tr>\n",
              "      <th>Female</th>\n",
              "      <td>242.0</td>\n",
              "      <td>0.314050</td>\n",
              "      <td>0.465098</td>\n",
              "      <td>0.0</td>\n",
              "      <td>0.0</td>\n",
              "      <td>0.0</td>\n",
              "      <td>1.00</td>\n",
              "      <td>1.0</td>\n",
              "    </tr>\n",
              "    <tr>\n",
              "      <th>Male</th>\n",
              "      <td>242.0</td>\n",
              "      <td>0.685950</td>\n",
              "      <td>0.465098</td>\n",
              "      <td>0.0</td>\n",
              "      <td>0.0</td>\n",
              "      <td>1.0</td>\n",
              "      <td>1.00</td>\n",
              "      <td>1.0</td>\n",
              "    </tr>\n",
              "    <tr>\n",
              "      <th>Angina</th>\n",
              "      <td>242.0</td>\n",
              "      <td>0.471074</td>\n",
              "      <td>0.500197</td>\n",
              "      <td>0.0</td>\n",
              "      <td>0.0</td>\n",
              "      <td>0.0</td>\n",
              "      <td>1.00</td>\n",
              "      <td>1.0</td>\n",
              "    </tr>\n",
              "    <tr>\n",
              "      <th>Atypical_Angina</th>\n",
              "      <td>242.0</td>\n",
              "      <td>0.173554</td>\n",
              "      <td>0.379510</td>\n",
              "      <td>0.0</td>\n",
              "      <td>0.0</td>\n",
              "      <td>0.0</td>\n",
              "      <td>0.00</td>\n",
              "      <td>1.0</td>\n",
              "    </tr>\n",
              "    <tr>\n",
              "      <th>Non-Anginal</th>\n",
              "      <td>242.0</td>\n",
              "      <td>0.276860</td>\n",
              "      <td>0.448374</td>\n",
              "      <td>0.0</td>\n",
              "      <td>0.0</td>\n",
              "      <td>0.0</td>\n",
              "      <td>1.00</td>\n",
              "      <td>1.0</td>\n",
              "    </tr>\n",
              "    <tr>\n",
              "      <th>Downsloping</th>\n",
              "      <td>242.0</td>\n",
              "      <td>0.475207</td>\n",
              "      <td>0.500420</td>\n",
              "      <td>0.0</td>\n",
              "      <td>0.0</td>\n",
              "      <td>0.0</td>\n",
              "      <td>1.00</td>\n",
              "      <td>1.0</td>\n",
              "    </tr>\n",
              "    <tr>\n",
              "      <th>Flatsloping</th>\n",
              "      <td>242.0</td>\n",
              "      <td>0.462810</td>\n",
              "      <td>0.499648</td>\n",
              "      <td>0.0</td>\n",
              "      <td>0.0</td>\n",
              "      <td>0.0</td>\n",
              "      <td>1.00</td>\n",
              "      <td>1.0</td>\n",
              "    </tr>\n",
              "    <tr>\n",
              "      <th>Upsloping</th>\n",
              "      <td>242.0</td>\n",
              "      <td>0.061983</td>\n",
              "      <td>0.241625</td>\n",
              "      <td>0.0</td>\n",
              "      <td>0.0</td>\n",
              "      <td>0.0</td>\n",
              "      <td>0.00</td>\n",
              "      <td>1.0</td>\n",
              "    </tr>\n",
              "  </tbody>\n",
              "</table>\n",
              "</div>"
            ],
            "text/plain": [
              "                 count        mean        std  ...    50%     75%    max\n",
              "Age              242.0   54.128099   8.904992  ...   54.5   60.75   77.0\n",
              "Rest_BP          242.0  131.396694  17.352331  ...  130.0  140.00  200.0\n",
              "Cholesterole     242.0  247.181818  51.235037  ...  241.5  274.00  564.0\n",
              "Fasting_BS       242.0    0.144628   0.352454  ...    0.0    0.00    1.0\n",
              "ECG              242.0    0.528926   0.516522  ...    1.0    1.00    2.0\n",
              "Stress_BPM       242.0  149.797521  22.935873  ...  153.0  167.75  195.0\n",
              "SI_Angina        242.0    0.330579   0.471396  ...    0.0    1.00    1.0\n",
              "Stress_STDep     242.0    0.991322   1.162148  ...    0.6    1.60    6.2\n",
              "Colored_Vessels  242.0    0.685950   0.985649  ...    0.0    1.00    4.0\n",
              "Female           242.0    0.314050   0.465098  ...    0.0    1.00    1.0\n",
              "Male             242.0    0.685950   0.465098  ...    1.0    1.00    1.0\n",
              "Angina           242.0    0.471074   0.500197  ...    0.0    1.00    1.0\n",
              "Atypical_Angina  242.0    0.173554   0.379510  ...    0.0    0.00    1.0\n",
              "Non-Anginal      242.0    0.276860   0.448374  ...    0.0    1.00    1.0\n",
              "Downsloping      242.0    0.475207   0.500420  ...    0.0    1.00    1.0\n",
              "Flatsloping      242.0    0.462810   0.499648  ...    0.0    1.00    1.0\n",
              "Upsloping        242.0    0.061983   0.241625  ...    0.0    0.00    1.0\n",
              "\n",
              "[17 rows x 8 columns]"
            ]
          },
          "metadata": {
            "tags": []
          },
          "execution_count": 108
        }
      ]
    },
    {
      "cell_type": "code",
      "metadata": {
        "id": "2FQ3ZHxuC98z"
      },
      "source": [
        "train_labels = train_dataset.pop('Diagnose')\r\n",
        "test_labels = test_dataset.pop('Diagnose')\r\n",
        "\r\n",
        "# Normalize Data\r\n",
        "def norm(x):\r\n",
        "  return (x - train_stats['mean']) / train_stats['std']\r\n",
        "\r\n",
        "normed_train_data = norm(train_dataset)\r\n",
        "normed_test_data = norm(test_dataset)"
      ],
      "execution_count": null,
      "outputs": []
    },
    {
      "cell_type": "markdown",
      "metadata": {
        "id": "1HycfmCEDLaZ"
      },
      "source": [
        "# Building Model"
      ]
    },
    {
      "cell_type": "code",
      "metadata": {
        "colab": {
          "base_uri": "https://localhost:8080/"
        },
        "id": "GUnzLGKYDKxM",
        "outputId": "80941cad-4f07-4ad0-af52-5f956e8bd10b"
      },
      "source": [
        "def build_model():\r\n",
        "  model = keras.Sequential([\r\n",
        "    layers.Dense(64, activation='tanh', input_shape=[len(train_dataset.keys())]),\r\n",
        "    layers.Dense(32, activation='tanh'),\r\n",
        "    layers.Dense(16, activation='tanh'),\r\n",
        "    layers.Dense(16, activation='tanh'),\r\n",
        "    layers.Dense(1, activation='sigmoid'),\r\n",
        "  ])\r\n",
        "\r\n",
        "  optimizer = tf.keras.optimizers.RMSprop(0.001)\r\n",
        "\r\n",
        "  model.compile(loss='mse',\r\n",
        "                optimizer=optimizer,\r\n",
        "                metrics=['mae', 'mse'])\r\n",
        "  return model\r\n",
        "\r\n",
        "model = build_model()\r\n",
        "model.summary()"
      ],
      "execution_count": null,
      "outputs": [
        {
          "output_type": "stream",
          "text": [
            "Model: \"sequential\"\n",
            "_________________________________________________________________\n",
            "Layer (type)                 Output Shape              Param #   \n",
            "=================================================================\n",
            "dense (Dense)                (None, 64)                1152      \n",
            "_________________________________________________________________\n",
            "dense_1 (Dense)              (None, 32)                2080      \n",
            "_________________________________________________________________\n",
            "dense_2 (Dense)              (None, 16)                528       \n",
            "_________________________________________________________________\n",
            "dense_3 (Dense)              (None, 16)                272       \n",
            "_________________________________________________________________\n",
            "dense_4 (Dense)              (None, 1)                 17        \n",
            "=================================================================\n",
            "Total params: 4,049\n",
            "Trainable params: 4,049\n",
            "Non-trainable params: 0\n",
            "_________________________________________________________________\n"
          ],
          "name": "stdout"
        }
      ]
    },
    {
      "cell_type": "markdown",
      "metadata": {
        "id": "ufb-pJOjDZOp"
      },
      "source": [
        "Try short batch"
      ]
    },
    {
      "cell_type": "code",
      "metadata": {
        "colab": {
          "base_uri": "https://localhost:8080/"
        },
        "id": "HfghL9SFDaSN",
        "outputId": "9a17f593-4dc5-4e83-e5d2-3dbf82d9069c"
      },
      "source": [
        "example_batch = normed_train_data[:10]\r\n",
        "example_result = model.predict(example_batch)\r\n",
        "example_result"
      ],
      "execution_count": null,
      "outputs": [
        {
          "output_type": "execute_result",
          "data": {
            "text/plain": [
              "array([[0.33607644],\n",
              "       [0.60434824],\n",
              "       [0.59089565],\n",
              "       [0.376843  ],\n",
              "       [0.7158791 ],\n",
              "       [0.51122624],\n",
              "       [0.41675228],\n",
              "       [0.47256494],\n",
              "       [0.3845768 ],\n",
              "       [0.4450603 ]], dtype=float32)"
            ]
          },
          "metadata": {
            "tags": []
          },
          "execution_count": 117
        }
      ]
    },
    {
      "cell_type": "code",
      "metadata": {
        "colab": {
          "base_uri": "https://localhost:8080/"
        },
        "id": "1xbRSGSmDfjM",
        "outputId": "22680289-a432-4b27-f65c-5a031b2ff02a"
      },
      "source": [
        "EPOCHS = 500\r\n",
        "\r\n",
        "history = model.fit(\r\n",
        "  normed_train_data, train_labels,\r\n",
        "  epochs=EPOCHS, validation_split = 0.2, verbose=0,\r\n",
        "  callbacks=[tfdocs.modeling.EpochDots()])"
      ],
      "execution_count": null,
      "outputs": [
        {
          "output_type": "stream",
          "text": [
            "\n",
            "Epoch: 0, loss:0.1899,  mae:0.4021,  mse:0.1899,  val_loss:0.1434,  val_mae:0.3350,  val_mse:0.1434,  \n",
            "....................................................................................................\n",
            "Epoch: 100, loss:0.0187,  mae:0.0442,  mse:0.0187,  val_loss:0.1390,  val_mae:0.1934,  val_mse:0.1390,  \n",
            "....................................................................................................\n",
            "Epoch: 200, loss:0.0107,  mae:0.0166,  mse:0.0107,  val_loss:0.1576,  val_mae:0.1825,  val_mse:0.1576,  \n",
            "....................................................................................................\n",
            "Epoch: 300, loss:0.0104,  mae:0.0109,  mse:0.0104,  val_loss:0.1832,  val_mae:0.2092,  val_mse:0.1832,  \n",
            "....................................................................................................\n",
            "Epoch: 400, loss:0.0006,  mae:0.0051,  mse:0.0006,  val_loss:0.1858,  val_mae:0.2233,  val_mse:0.1858,  \n",
            "...................................................................................................."
          ],
          "name": "stdout"
        }
      ]
    },
    {
      "cell_type": "code",
      "metadata": {
        "colab": {
          "base_uri": "https://localhost:8080/",
          "height": 204
        },
        "id": "Syk8LUWdDj8g",
        "outputId": "be952921-e5cb-424f-f7b2-7bea4bc21991"
      },
      "source": [
        "hist = pd.DataFrame(history.history)\r\n",
        "hist['epoch'] = history.epoch\r\n",
        "hist.tail()"
      ],
      "execution_count": null,
      "outputs": [
        {
          "output_type": "execute_result",
          "data": {
            "text/html": [
              "<div>\n",
              "<style scoped>\n",
              "    .dataframe tbody tr th:only-of-type {\n",
              "        vertical-align: middle;\n",
              "    }\n",
              "\n",
              "    .dataframe tbody tr th {\n",
              "        vertical-align: top;\n",
              "    }\n",
              "\n",
              "    .dataframe thead th {\n",
              "        text-align: right;\n",
              "    }\n",
              "</style>\n",
              "<table border=\"1\" class=\"dataframe\">\n",
              "  <thead>\n",
              "    <tr style=\"text-align: right;\">\n",
              "      <th></th>\n",
              "      <th>loss</th>\n",
              "      <th>mae</th>\n",
              "      <th>mse</th>\n",
              "      <th>val_loss</th>\n",
              "      <th>val_mae</th>\n",
              "      <th>val_mse</th>\n",
              "      <th>epoch</th>\n",
              "    </tr>\n",
              "  </thead>\n",
              "  <tbody>\n",
              "    <tr>\n",
              "      <th>495</th>\n",
              "      <td>1.028576e-08</td>\n",
              "      <td>0.000065</td>\n",
              "      <td>1.028576e-08</td>\n",
              "      <td>0.165063</td>\n",
              "      <td>0.183910</td>\n",
              "      <td>0.165063</td>\n",
              "      <td>495</td>\n",
              "    </tr>\n",
              "    <tr>\n",
              "      <th>496</th>\n",
              "      <td>9.839557e-09</td>\n",
              "      <td>0.000064</td>\n",
              "      <td>9.839557e-09</td>\n",
              "      <td>0.165702</td>\n",
              "      <td>0.184701</td>\n",
              "      <td>0.165702</td>\n",
              "      <td>496</td>\n",
              "    </tr>\n",
              "    <tr>\n",
              "      <th>497</th>\n",
              "      <td>9.595059e-09</td>\n",
              "      <td>0.000063</td>\n",
              "      <td>9.595059e-09</td>\n",
              "      <td>0.170873</td>\n",
              "      <td>0.189397</td>\n",
              "      <td>0.170873</td>\n",
              "      <td>497</td>\n",
              "    </tr>\n",
              "    <tr>\n",
              "      <th>498</th>\n",
              "      <td>9.620760e-09</td>\n",
              "      <td>0.000063</td>\n",
              "      <td>9.620760e-09</td>\n",
              "      <td>0.168751</td>\n",
              "      <td>0.187135</td>\n",
              "      <td>0.168751</td>\n",
              "      <td>498</td>\n",
              "    </tr>\n",
              "    <tr>\n",
              "      <th>499</th>\n",
              "      <td>8.796142e-09</td>\n",
              "      <td>0.000061</td>\n",
              "      <td>8.796142e-09</td>\n",
              "      <td>0.166396</td>\n",
              "      <td>0.184456</td>\n",
              "      <td>0.166396</td>\n",
              "      <td>499</td>\n",
              "    </tr>\n",
              "  </tbody>\n",
              "</table>\n",
              "</div>"
            ],
            "text/plain": [
              "             loss       mae           mse  val_loss   val_mae   val_mse  epoch\n",
              "495  1.028576e-08  0.000065  1.028576e-08  0.165063  0.183910  0.165063    495\n",
              "496  9.839557e-09  0.000064  9.839557e-09  0.165702  0.184701  0.165702    496\n",
              "497  9.595059e-09  0.000063  9.595059e-09  0.170873  0.189397  0.170873    497\n",
              "498  9.620760e-09  0.000063  9.620760e-09  0.168751  0.187135  0.168751    498\n",
              "499  8.796142e-09  0.000061  8.796142e-09  0.166396  0.184456  0.166396    499"
            ]
          },
          "metadata": {
            "tags": []
          },
          "execution_count": 119
        }
      ]
    },
    {
      "cell_type": "code",
      "metadata": {
        "id": "I1YBaPaxDm0Y"
      },
      "source": [
        "plotter = tfdocs.plots.HistoryPlotter(smoothing_std=2)"
      ],
      "execution_count": null,
      "outputs": []
    },
    {
      "cell_type": "code",
      "metadata": {
        "colab": {
          "base_uri": "https://localhost:8080/",
          "height": 300
        },
        "id": "zsfLo8PoDok3",
        "outputId": "81995df0-bdb9-4764-86af-1b76f85f6753"
      },
      "source": [
        "plotter.plot({'Basic': history}, metric = \"mae\")\r\n",
        "plt.ylim([0, 1])\r\n",
        "plt.ylabel('MAE [MPG]')"
      ],
      "execution_count": null,
      "outputs": [
        {
          "output_type": "execute_result",
          "data": {
            "text/plain": [
              "Text(0, 0.5, 'MAE [MPG]')"
            ]
          },
          "metadata": {
            "tags": []
          },
          "execution_count": 122
        },
        {
          "output_type": "display_data",
          "data": {
            "image/png": "[encoded data removed]",
            "text/plain": [
              "<Figure size 432x288 with 1 Axes>"
            ]
          },
          "metadata": {
            "tags": [],
            "needs_background": "light"
          }
        }
      ]
    },
    {
      "cell_type": "code",
      "metadata": {
        "colab": {
          "base_uri": "https://localhost:8080/",
          "height": 300
        },
        "id": "x-QVDw0SDqNY",
        "outputId": "47e62618-7066-4405-f7c6-d4390ac873fe"
      },
      "source": [
        "plotter.plot({'Basic': history}, metric = \"mse\")\r\n",
        "plt.ylim([0, 1])\r\n",
        "plt.ylabel('MSE [MPG^2]')"
      ],
      "execution_count": null,
      "outputs": [
        {
          "output_type": "execute_result",
          "data": {
            "text/plain": [
              "Text(0, 0.5, 'MSE [MPG^2]')"
            ]
          },
          "metadata": {
            "tags": []
          },
          "execution_count": 123
        },
        {
          "output_type": "display_data",
          "data": {
            "image/png": "[encoded data removed]",
            "text/plain": [
              "<Figure size 432x288 with 1 Axes>"
            ]
          },
          "metadata": {
            "tags": [],
            "needs_background": "light"
          }
        }
      ]
    },
    {
      "cell_type": "code",
      "metadata": {
        "colab": {
          "base_uri": "https://localhost:8080/"
        },
        "id": "KCnAIS3ODtHG",
        "outputId": "f2ea8365-1f32-4f83-a2a2-9bbf182839da"
      },
      "source": [
        "model = build_model()\r\n",
        "\r\n",
        "# The patience parameter is the amount of epochs to check for improvement\r\n",
        "early_stop = keras.callbacks.EarlyStopping(monitor='val_loss', patience=20)\r\n",
        "\r\n",
        "early_history = model.fit(normed_train_data, train_labels, \r\n",
        "                    epochs=EPOCHS, validation_split = 0.2, verbose=0, \r\n",
        "                    callbacks=[early_stop, tfdocs.modeling.EpochDots()])"
      ],
      "execution_count": null,
      "outputs": [
        {
          "output_type": "stream",
          "text": [
            "\n",
            "Epoch: 0, loss:0.1891,  mae:0.4048,  mse:0.1891,  val_loss:0.1221,  val_mae:0.3098,  val_mse:0.1221,  \n",
            "............................................................"
          ],
          "name": "stdout"
        }
      ]
    },
    {
      "cell_type": "code",
      "metadata": {
        "colab": {
          "base_uri": "https://localhost:8080/",
          "height": 300
        },
        "id": "Us32399eDw3V",
        "outputId": "858457e2-317e-4dea-f80f-862abf87934e"
      },
      "source": [
        "plotter.plot({'Early Stopping': early_history}, metric = \"mae\")\r\n",
        "plt.ylim([0, 1])\r\n",
        "plt.ylabel('MAE [MPG]')"
      ],
      "execution_count": null,
      "outputs": [
        {
          "output_type": "execute_result",
          "data": {
            "text/plain": [
              "Text(0, 0.5, 'MAE [MPG]')"
            ]
          },
          "metadata": {
            "tags": []
          },
          "execution_count": 126
        },
        {
          "output_type": "display_data",
          "data": {
            "image/png": "[encoded data removed]",
            "text/plain": [
              "<Figure size 432x288 with 1 Axes>"
            ]
          },
          "metadata": {
            "tags": [],
            "needs_background": "light"
          }
        }
      ]
    },
    {
      "cell_type": "code",
      "metadata": {
        "colab": {
          "base_uri": "https://localhost:8080/"
        },
        "id": "fgaWrvpnD09D",
        "outputId": "357f6fa4-07a1-439d-cf4f-dbcd132d0e68"
      },
      "source": [
        "loss, mae, mse = model.evaluate(normed_test_data, test_labels, verbose=2)\r\n",
        "\r\n",
        "print(\"Testing set Mean Abs Error: {:5.2f} MPG\".format(mae))"
      ],
      "execution_count": null,
      "outputs": [
        {
          "output_type": "stream",
          "text": [
            "2/2 - 0s - loss: 0.0825 - mae: 0.1771 - mse: 0.0825\n",
            "Testing set Mean Abs Error:  0.18 MPG\n"
          ],
          "name": "stdout"
        }
      ]
    },
    {
      "cell_type": "code",
      "metadata": {
        "colab": {
          "base_uri": "https://localhost:8080/",
          "height": 283
        },
        "id": "uf73BYrBD5zs",
        "outputId": "46e301a4-5e92-4fe9-af2f-fd65ad0c9f32"
      },
      "source": [
        "test_predictions = model.predict(normed_test_data).flatten()\r\n",
        "\r\n",
        "a = plt.axes(aspect='equal')\r\n",
        "plt.scatter(test_labels, test_predictions)\r\n",
        "plt.xlabel('True Values [MPG]')\r\n",
        "plt.ylabel('Predictions [MPG]')\r\n",
        "lims = [0, 1]\r\n",
        "plt.xlim(lims)\r\n",
        "plt.ylim(lims)\r\n",
        "_ = plt.plot(lims, lims)\r\n"
      ],
      "execution_count": null,
      "outputs": [
        {
          "output_type": "display_data",
          "data": {
            "image/png": "[encoded data removed]",
            "text/plain": [
              "<Figure size 432x288 with 1 Axes>"
            ]
          },
          "metadata": {
            "tags": [],
            "needs_background": "light"
          }
        }
      ]
    },
    {
      "cell_type": "code",
      "metadata": {
        "colab": {
          "base_uri": "https://localhost:8080/",
          "height": 279
        },
        "id": "ZLD7GgcjD7oL",
        "outputId": "49038cf3-e0d8-4922-a267-f8b3dc2902ea"
      },
      "source": [
        "\r\n",
        "error = test_predictions - test_labels\r\n",
        "plt.hist(error, bins = 100)\r\n",
        "\r\n",
        "plt.xlabel(\"Prediction Error [MPG]\")\r\n",
        "_ = plt.ylabel(\"Count\")"
      ],
      "execution_count": null,
      "outputs": [
        {
          "output_type": "display_data",
          "data": {
            "image/png": "[encoded data removed]",
            "text/plain": [
              "<Figure size 432x288 with 1 Axes>"
            ]
          },
          "metadata": {
            "tags": [],
            "needs_background": "light"
          }
        }
      ]
    },
    {
      "cell_type": "code",
      "metadata": {
        "colab": {
          "base_uri": "https://localhost:8080/"
        },
        "id": "XZEr03quD-S1",
        "outputId": "7b6aef5d-e73c-41cf-9d41-d8957b9951b9"
      },
      "source": [
        "\r\n",
        "print(np.mean(error))\r\n",
        "print(np.std(error))\r\n",
        "print(len(error))\r\n",
        "model.save('trained_model.h5')"
      ],
      "execution_count": null,
      "outputs": [
        {
          "output_type": "stream",
          "text": [
            "0.015189613963736862\n",
            "0.2867838259142971\n",
            "61\n"
          ],
          "name": "stdout"
        }
      ]
    },
    {
      "cell_type": "code",
      "metadata": {
        "colab": {
          "base_uri": "https://localhost:8080/"
        },
        "id": "4s6J_LsOEz5u",
        "outputId": "1f95c9f1-5968-4775-d7c9-55f746890abd"
      },
      "source": [
        "test_dataset_merged = pd.DataFrame(test_labels, columns=['Diagnose'])\r\n",
        "#test_dataset_merged['Diagnose'] = test_labels\r\n",
        "test_dataset_merged['Prediction'] = test_predictions\r\n",
        "\r\n",
        "with pd.option_context('display.max_rows', None, 'display.max_columns', None):  # more options can be specified also\r\n",
        "    print(test_dataset_merged)"
      ],
      "execution_count": null,
      "outputs": [
        {
          "output_type": "stream",
          "text": [
            "     Diagnose  Prediction\n",
            "1           1    0.806080\n",
            "9           1    0.950018\n",
            "17          1    0.889261\n",
            "25          1    0.480342\n",
            "28          1    0.962861\n",
            "31          1    0.897916\n",
            "32          1    0.949526\n",
            "35          1    0.936567\n",
            "38          1    0.971934\n",
            "39          1    0.887534\n",
            "42          1    0.204143\n",
            "47          1    0.966824\n",
            "53          1    0.995625\n",
            "57          1    0.538742\n",
            "65          1    0.983002\n",
            "70          1    0.634007\n",
            "72          1    0.871078\n",
            "79          1    0.899681\n",
            "87          1    0.981623\n",
            "88          1    0.993496\n",
            "99          1    0.710696\n",
            "105         1    0.949082\n",
            "115         1    0.993666\n",
            "117         1    0.868713\n",
            "120         1    0.062011\n",
            "127         1    0.972959\n",
            "128         1    0.990580\n",
            "132         1    0.978256\n",
            "147         1    0.979065\n",
            "151         1    0.867520\n",
            "163         1    0.890054\n",
            "165         0    0.015479\n",
            "169         0    0.211772\n",
            "172         0    0.565862\n",
            "174         0    0.014952\n",
            "177         0    0.438362\n",
            "183         0    0.136230\n",
            "185         0    0.065457\n",
            "186         0    0.046931\n",
            "192         0    0.063167\n",
            "193         0    0.009173\n",
            "195         0    0.373015\n",
            "197         0    0.262580\n",
            "202         0    0.226463\n",
            "211         0    0.023102\n",
            "231         0    0.022608\n",
            "242         0    0.019370\n",
            "243         0    0.074434\n",
            "244         0    0.048801\n",
            "251         0    0.178737\n",
            "260         0    0.091943\n",
            "265         0    0.576802\n",
            "267         0    0.342302\n",
            "271         0    0.060308\n",
            "273         0    0.262567\n",
            "277         0    0.973844\n",
            "278         0    0.518413\n",
            "280         0    0.048660\n",
            "289         0    0.109444\n",
            "291         0    0.051477\n",
            "292         0    0.031447\n"
          ],
          "name": "stdout"
        }
      ]
    }
  ]
}