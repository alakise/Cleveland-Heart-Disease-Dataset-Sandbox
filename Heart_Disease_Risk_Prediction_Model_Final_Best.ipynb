{
  "nbformat": 4,
  "nbformat_minor": 0,
  "metadata": {
    "colab": {
      "name": "Heart Disease Risk Prediction Model - Final Best.ipynb",
      "provenance": [],
      "collapsed_sections": [],
      "toc_visible": true,
      "authorship_tag": "ABX9TyN5uTTSm/cMH72s0000kiZo",
      "include_colab_link": true
    },
    "kernelspec": {
      "name": "python3",
      "display_name": "Python 3"
    }
  },
  "cells": [
    {
      "cell_type": "markdown",
      "metadata": {
        "id": "view-in-github",
        "colab_type": "text"
      },
      "source": [
        "<a href=\"https://colab.research.google.com/github/alakise/Cleveland-Heart-Disease-Dataset-Sandbox/blob/main/Heart_Disease_Risk_Prediction_Model_Final_Best.ipynb\" target=\"_parent\"><img src=\"https://colab.research.google.com/assets/colab-badge.svg\" alt=\"Open In Colab\"/></a>"
      ]
    },
    {
      "cell_type": "markdown",
      "metadata": {
        "id": "OGKMEnHCqqIR"
      },
      "source": [
        "#Problem Definition\n",
        "Given clinical parameters about a patient, can we predict whether or not they have heart disease?\n",
        "\n",
        "# Features\n",
        "Explanation of fields in dataset\n",
        "\n",
        "## Data Dictionary\n",
        "1. `age` - age in years\n",
        "2. `sex` - (1 = male; 0 = female)\n",
        "3. `cp` - chest pain type\n",
        "    * 0: Typical angina\n",
        "    * 1: Atypical angina\n",
        "    * 2: Non-anginal pain\n",
        "    * 3: Asymptomatic\n",
        "4. `trestbps` - resting blood pressure (in mm Hg on admission to the hospital) \n",
        "5. `chol` - Serum cholesterole in mg/dl\n",
        "6. `fbs` - (fasting blood sugar > 120 mg/dl) (1 = true; 0 = false)\n",
        "7. `restecg` - resting electrocardiographic results\n",
        "    * 0: Nothing to note\n",
        "    * 1: ST-T Wave abnormality\n",
        "    * 2: Possible or definite left ventricular hypertrophy\n",
        "8. `thalach` - maximum heart rate achieved\n",
        "9. `exang` - exercise induced angina (1 = yes; 0 = no)\n",
        "10. `oldpeak` - ST depression induced by exercise relative to rest looks at stress of heart during excercise unhealthy heart will stress more\n",
        "11. `slope` - the slope of the peak exercise ST segment\n",
        "    * 0: Upsloping: better heart rate with excercise (uncommon)\n",
        "    * 1: Flatsloping: minimal change (typical healthy heart)\n",
        "    * 2: Downslopins: signs of unhealthy heart\n",
        "12. `ca` - number of major vessels (0-3) colored by flourosopy\n",
        "    * colored vessel means the doctor can see the blood passing through\n",
        "    * the more blood movement the better (no clots)\n",
        "13. `thal` - thalium stress result\n",
        "    * 1,3: normal\n",
        "    * 6: fixed defect: used to be defect but ok now\n",
        "    * 7: reversable defect: no proper blood movement when excercising\n",
        "14. `target` - have disease or not (1=yes, 0=no) (= the predicted attribute)"
      ]
    },
    {
      "cell_type": "markdown",
      "metadata": {
        "id": "5z6BMzaapkkK"
      },
      "source": [
        "# Introduction\n",
        "First, load the appropriate libraries."
      ]
    },
    {
      "cell_type": "code",
      "metadata": {
        "id": "VtX0jjtkmboi",
        "colab": {
          "base_uri": "https://localhost:8080/"
        },
        "outputId": "7f028506-8128-4a75-fb00-e558616d73f9"
      },
      "source": [
        "\n",
        "!pip install -q seaborn\n",
        "\n",
        "!pip install -q git+https://github.com/tensorflow/docs\n",
        "\n",
        "import pathlib\n",
        "import matplotlib.pyplot as plt\n",
        "import numpy as np\n",
        "import pandas as pd\n",
        "import seaborn as sns\n",
        "from scipy import stats\n",
        "import tensorflow as tf\n",
        "\n",
        "from tensorflow import keras\n",
        "from tensorflow.keras import layers\n",
        "from keras.utils.generic_utils import get_custom_objects\n",
        "\n",
        "print(\"Tensorflow sürümü:\",tf.__version__)\n",
        "\n",
        "import tensorflow_docs as tfdocs\n",
        "import tensorflow_docs.plots\n",
        "import tensorflow_docs.modeling"
      ],
      "execution_count": null,
      "outputs": [
        {
          "output_type": "stream",
          "text": [
            "\u001b[K     |████████████████████████████████| 1.0MB 6.9MB/s \n",
            "\u001b[?25h  Building wheel for tensorflow-docs (setup.py) ... \u001b[?25l\u001b[?25hdone\n",
            "Tensorflow sürümü: 2.4.1\n"
          ],
          "name": "stdout"
        }
      ]
    },
    {
      "cell_type": "code",
      "metadata": {
        "id": "OUW5_bN8tQsb",
        "colab": {
          "base_uri": "https://localhost:8080/",
          "height": 204
        },
        "outputId": "59475496-8ab2-4180-bce1-5792404c6748"
      },
      "source": [
        "dataset_path = \"heart.csv\"\n",
        "column_names = [\"Age\",\"Gender\",\"Angina\",\"Rest_BP\",\"Cholesterole\",\"Fasting_BS\",\"ECG\",\"Stress_BPM\",\"SI_Angina\",\"Stress_STDep\",\"Slope\", \"Colored_Vessels\",\"Thalium\",\"Diagnose\"]\n",
        "raw_dataset = pd.read_csv(dataset_path, names=column_names,\n",
        "                      comment='\\t',\n",
        "                      sep=\",\", skipinitialspace=True)\n",
        "\n",
        "df= raw_dataset.copy()\n",
        "df.head()\n",
        "#with pd.option_context('display.max_rows', None, 'display.max_columns', None):  # more options can be specified also\n",
        "#    print(df)"
      ],
      "execution_count": null,
      "outputs": [
        {
          "output_type": "execute_result",
          "data": {
            "text/html": [
              "<div>\n",
              "<style scoped>\n",
              "    .dataframe tbody tr th:only-of-type {\n",
              "        vertical-align: middle;\n",
              "    }\n",
              "\n",
              "    .dataframe tbody tr th {\n",
              "        vertical-align: top;\n",
              "    }\n",
              "\n",
              "    .dataframe thead th {\n",
              "        text-align: right;\n",
              "    }\n",
              "</style>\n",
              "<table border=\"1\" class=\"dataframe\">\n",
              "  <thead>\n",
              "    <tr style=\"text-align: right;\">\n",
              "      <th></th>\n",
              "      <th>Age</th>\n",
              "      <th>Gender</th>\n",
              "      <th>Angina</th>\n",
              "      <th>Rest_BP</th>\n",
              "      <th>Cholesterole</th>\n",
              "      <th>Fasting_BS</th>\n",
              "      <th>ECG</th>\n",
              "      <th>Stress_BPM</th>\n",
              "      <th>SI_Angina</th>\n",
              "      <th>Stress_STDep</th>\n",
              "      <th>Slope</th>\n",
              "      <th>Colored_Vessels</th>\n",
              "      <th>Thalium</th>\n",
              "      <th>Diagnose</th>\n",
              "    </tr>\n",
              "  </thead>\n",
              "  <tbody>\n",
              "    <tr>\n",
              "      <th>0</th>\n",
              "      <td>63</td>\n",
              "      <td>1</td>\n",
              "      <td>3</td>\n",
              "      <td>145</td>\n",
              "      <td>233</td>\n",
              "      <td>1</td>\n",
              "      <td>0</td>\n",
              "      <td>150</td>\n",
              "      <td>0</td>\n",
              "      <td>2.3</td>\n",
              "      <td>0</td>\n",
              "      <td>0</td>\n",
              "      <td>1</td>\n",
              "      <td>1</td>\n",
              "    </tr>\n",
              "    <tr>\n",
              "      <th>1</th>\n",
              "      <td>37</td>\n",
              "      <td>1</td>\n",
              "      <td>2</td>\n",
              "      <td>130</td>\n",
              "      <td>250</td>\n",
              "      <td>0</td>\n",
              "      <td>1</td>\n",
              "      <td>187</td>\n",
              "      <td>0</td>\n",
              "      <td>3.5</td>\n",
              "      <td>0</td>\n",
              "      <td>0</td>\n",
              "      <td>2</td>\n",
              "      <td>1</td>\n",
              "    </tr>\n",
              "    <tr>\n",
              "      <th>2</th>\n",
              "      <td>41</td>\n",
              "      <td>0</td>\n",
              "      <td>1</td>\n",
              "      <td>130</td>\n",
              "      <td>204</td>\n",
              "      <td>0</td>\n",
              "      <td>0</td>\n",
              "      <td>172</td>\n",
              "      <td>0</td>\n",
              "      <td>1.4</td>\n",
              "      <td>2</td>\n",
              "      <td>0</td>\n",
              "      <td>2</td>\n",
              "      <td>1</td>\n",
              "    </tr>\n",
              "    <tr>\n",
              "      <th>3</th>\n",
              "      <td>56</td>\n",
              "      <td>1</td>\n",
              "      <td>1</td>\n",
              "      <td>120</td>\n",
              "      <td>236</td>\n",
              "      <td>0</td>\n",
              "      <td>1</td>\n",
              "      <td>178</td>\n",
              "      <td>0</td>\n",
              "      <td>0.8</td>\n",
              "      <td>2</td>\n",
              "      <td>0</td>\n",
              "      <td>2</td>\n",
              "      <td>1</td>\n",
              "    </tr>\n",
              "    <tr>\n",
              "      <th>4</th>\n",
              "      <td>57</td>\n",
              "      <td>0</td>\n",
              "      <td>0</td>\n",
              "      <td>120</td>\n",
              "      <td>354</td>\n",
              "      <td>0</td>\n",
              "      <td>1</td>\n",
              "      <td>163</td>\n",
              "      <td>1</td>\n",
              "      <td>0.6</td>\n",
              "      <td>2</td>\n",
              "      <td>0</td>\n",
              "      <td>2</td>\n",
              "      <td>1</td>\n",
              "    </tr>\n",
              "  </tbody>\n",
              "</table>\n",
              "</div>"
            ],
            "text/plain": [
              "   Age  Gender  Angina  Rest_BP  ...  Slope  Colored_Vessels  Thalium  Diagnose\n",
              "0   63       1       3      145  ...      0                0        1         1\n",
              "1   37       1       2      130  ...      0                0        2         1\n",
              "2   41       0       1      130  ...      2                0        2         1\n",
              "3   56       1       1      120  ...      2                0        2         1\n",
              "4   57       0       0      120  ...      2                0        2         1\n",
              "\n",
              "[5 rows x 14 columns]"
            ]
          },
          "metadata": {
            "tags": []
          },
          "execution_count": 5
        }
      ]
    },
    {
      "cell_type": "code",
      "metadata": {
        "colab": {
          "base_uri": "https://localhost:8080/"
        },
        "id": "sFcMBIJSvuK7",
        "outputId": "046fc09d-63a3-4570-b97d-f5f43a908055"
      },
      "source": [
        "df.info()"
      ],
      "execution_count": null,
      "outputs": [
        {
          "output_type": "stream",
          "text": [
            "<class 'pandas.core.frame.DataFrame'>\n",
            "RangeIndex: 303 entries, 0 to 302\n",
            "Data columns (total 14 columns):\n",
            " #   Column           Non-Null Count  Dtype  \n",
            "---  ------           --------------  -----  \n",
            " 0   Age              303 non-null    int64  \n",
            " 1   Gender           303 non-null    int64  \n",
            " 2   Angina           303 non-null    int64  \n",
            " 3   Rest_BP          303 non-null    int64  \n",
            " 4   Cholesterole     303 non-null    int64  \n",
            " 5   Fasting_BS       303 non-null    int64  \n",
            " 6   ECG              303 non-null    int64  \n",
            " 7   Stress_BPM       303 non-null    int64  \n",
            " 8   SI_Angina        303 non-null    int64  \n",
            " 9   Stress_STDep     303 non-null    float64\n",
            " 10  Slope            303 non-null    int64  \n",
            " 11  Colored_Vessels  303 non-null    int64  \n",
            " 12  Thalium          303 non-null    int64  \n",
            " 13  Diagnose         303 non-null    int64  \n",
            "dtypes: float64(1), int64(13)\n",
            "memory usage: 33.3 KB\n"
          ],
          "name": "stdout"
        }
      ]
    },
    {
      "cell_type": "code",
      "metadata": {
        "colab": {
          "base_uri": "https://localhost:8080/",
          "height": 241
        },
        "id": "JkmCs4n-vz6T",
        "outputId": "bcc884c4-8470-45be-9e1c-2066081a485d"
      },
      "source": [
        "df['Gender'] = df['Gender'].map(lambda x: {0: 'Female', 1: 'Male'}.get(x))\n",
        "df['Angina'] = df['Angina'].map(lambda x: {0: 'Angina', 1: 'Atypical_Angina', 2: 'Non-Anginal'}.get(x))\n",
        "df['Slope'] = df['Slope'].map(lambda x: {0: 'Upsloping', 1: 'Flatsloping', 2: 'Downsloping'}.get(x))\n",
        "df.pop(\"Thalium\")\n",
        "#df['Thalium'] = df['Thalium'].map(lambda x: {6: 'Thalium_Fixed', 7: 'Thalium_Reversable'}.get(x))\n",
        "\n",
        "df = pd.get_dummies(df, prefix='', prefix_sep='')\n",
        "df.head()"
      ],
      "execution_count": null,
      "outputs": [
        {
          "output_type": "execute_result",
          "data": {
            "text/html": [
              "<div>\n",
              "<style scoped>\n",
              "    .dataframe tbody tr th:only-of-type {\n",
              "        vertical-align: middle;\n",
              "    }\n",
              "\n",
              "    .dataframe tbody tr th {\n",
              "        vertical-align: top;\n",
              "    }\n",
              "\n",
              "    .dataframe thead th {\n",
              "        text-align: right;\n",
              "    }\n",
              "</style>\n",
              "<table border=\"1\" class=\"dataframe\">\n",
              "  <thead>\n",
              "    <tr style=\"text-align: right;\">\n",
              "      <th></th>\n",
              "      <th>Age</th>\n",
              "      <th>Rest_BP</th>\n",
              "      <th>Cholesterole</th>\n",
              "      <th>Fasting_BS</th>\n",
              "      <th>ECG</th>\n",
              "      <th>Stress_BPM</th>\n",
              "      <th>SI_Angina</th>\n",
              "      <th>Stress_STDep</th>\n",
              "      <th>Colored_Vessels</th>\n",
              "      <th>Diagnose</th>\n",
              "      <th>Female</th>\n",
              "      <th>Male</th>\n",
              "      <th>Angina</th>\n",
              "      <th>Atypical_Angina</th>\n",
              "      <th>Non-Anginal</th>\n",
              "      <th>Downsloping</th>\n",
              "      <th>Flatsloping</th>\n",
              "      <th>Upsloping</th>\n",
              "    </tr>\n",
              "  </thead>\n",
              "  <tbody>\n",
              "    <tr>\n",
              "      <th>0</th>\n",
              "      <td>63</td>\n",
              "      <td>145</td>\n",
              "      <td>233</td>\n",
              "      <td>1</td>\n",
              "      <td>0</td>\n",
              "      <td>150</td>\n",
              "      <td>0</td>\n",
              "      <td>2.3</td>\n",
              "      <td>0</td>\n",
              "      <td>1</td>\n",
              "      <td>0</td>\n",
              "      <td>1</td>\n",
              "      <td>0</td>\n",
              "      <td>0</td>\n",
              "      <td>0</td>\n",
              "      <td>0</td>\n",
              "      <td>0</td>\n",
              "      <td>1</td>\n",
              "    </tr>\n",
              "    <tr>\n",
              "      <th>1</th>\n",
              "      <td>37</td>\n",
              "      <td>130</td>\n",
              "      <td>250</td>\n",
              "      <td>0</td>\n",
              "      <td>1</td>\n",
              "      <td>187</td>\n",
              "      <td>0</td>\n",
              "      <td>3.5</td>\n",
              "      <td>0</td>\n",
              "      <td>1</td>\n",
              "      <td>0</td>\n",
              "      <td>1</td>\n",
              "      <td>0</td>\n",
              "      <td>0</td>\n",
              "      <td>1</td>\n",
              "      <td>0</td>\n",
              "      <td>0</td>\n",
              "      <td>1</td>\n",
              "    </tr>\n",
              "    <tr>\n",
              "      <th>2</th>\n",
              "      <td>41</td>\n",
              "      <td>130</td>\n",
              "      <td>204</td>\n",
              "      <td>0</td>\n",
              "      <td>0</td>\n",
              "      <td>172</td>\n",
              "      <td>0</td>\n",
              "      <td>1.4</td>\n",
              "      <td>0</td>\n",
              "      <td>1</td>\n",
              "      <td>1</td>\n",
              "      <td>0</td>\n",
              "      <td>0</td>\n",
              "      <td>1</td>\n",
              "      <td>0</td>\n",
              "      <td>1</td>\n",
              "      <td>0</td>\n",
              "      <td>0</td>\n",
              "    </tr>\n",
              "    <tr>\n",
              "      <th>3</th>\n",
              "      <td>56</td>\n",
              "      <td>120</td>\n",
              "      <td>236</td>\n",
              "      <td>0</td>\n",
              "      <td>1</td>\n",
              "      <td>178</td>\n",
              "      <td>0</td>\n",
              "      <td>0.8</td>\n",
              "      <td>0</td>\n",
              "      <td>1</td>\n",
              "      <td>0</td>\n",
              "      <td>1</td>\n",
              "      <td>0</td>\n",
              "      <td>1</td>\n",
              "      <td>0</td>\n",
              "      <td>1</td>\n",
              "      <td>0</td>\n",
              "      <td>0</td>\n",
              "    </tr>\n",
              "    <tr>\n",
              "      <th>4</th>\n",
              "      <td>57</td>\n",
              "      <td>120</td>\n",
              "      <td>354</td>\n",
              "      <td>0</td>\n",
              "      <td>1</td>\n",
              "      <td>163</td>\n",
              "      <td>1</td>\n",
              "      <td>0.6</td>\n",
              "      <td>0</td>\n",
              "      <td>1</td>\n",
              "      <td>1</td>\n",
              "      <td>0</td>\n",
              "      <td>1</td>\n",
              "      <td>0</td>\n",
              "      <td>0</td>\n",
              "      <td>1</td>\n",
              "      <td>0</td>\n",
              "      <td>0</td>\n",
              "    </tr>\n",
              "  </tbody>\n",
              "</table>\n",
              "</div>"
            ],
            "text/plain": [
              "   Age  Rest_BP  Cholesterole  ...  Downsloping  Flatsloping  Upsloping\n",
              "0   63      145           233  ...            0            0          1\n",
              "1   37      130           250  ...            0            0          1\n",
              "2   41      130           204  ...            1            0          0\n",
              "3   56      120           236  ...            1            0          0\n",
              "4   57      120           354  ...            1            0          0\n",
              "\n",
              "[5 rows x 18 columns]"
            ]
          },
          "metadata": {
            "tags": []
          },
          "execution_count": 7
        }
      ]
    },
    {
      "cell_type": "code",
      "metadata": {
        "id": "TfWbnswxvFIp"
      },
      "source": [
        "train_dataset = df.sample(frac=0.80,random_state=0)\n",
        "test_dataset = df.drop(train_dataset.index)"
      ],
      "execution_count": null,
      "outputs": []
    },
    {
      "cell_type": "code",
      "metadata": {
        "colab": {
          "base_uri": "https://localhost:8080/",
          "height": 743
        },
        "id": "jl5KxZYwB9Ng",
        "outputId": "d864ddf2-8e0a-4c90-8115-8ca40509fd96"
      },
      "source": [
        "sns.pairplot(train_dataset[[\"Age\", \"Cholesterole\", \"Stress_BPM\", \"Rest_BP\"]], diag_kind=\"kde\")"
      ],
      "execution_count": null,
      "outputs": [
        {
          "output_type": "execute_result",
          "data": {
            "text/plain": [
              "<seaborn.axisgrid.PairGrid at 0x7fb69dde9410>"
            ]
          },
          "metadata": {
            "tags": []
          },
          "execution_count": 6
        },
        {
          "output_type": "display_data",
          "data": {
            "image/png": "[encoded data removed]",
            "text/plain": [
              "<Figure size 720x720 with 20 Axes>"
            ]
          },
          "metadata": {
            "tags": [],
            "needs_background": "light"
          }
        }
      ]
    },
    {
      "cell_type": "code",
      "metadata": {
        "colab": {
          "base_uri": "https://localhost:8080/",
          "height": 576
        },
        "id": "V88-XWaWCkTd",
        "outputId": "bedd6a15-b8ba-416d-c157-8b019c6973c3"
      },
      "source": [
        "train_stats = train_dataset.describe()\n",
        "train_stats.pop(\"Diagnose\")\n",
        "train_stats = train_stats.transpose()\n",
        "train_stats"
      ],
      "execution_count": null,
      "outputs": [
        {
          "output_type": "execute_result",
          "data": {
            "text/html": [
              "<div>\n",
              "<style scoped>\n",
              "    .dataframe tbody tr th:only-of-type {\n",
              "        vertical-align: middle;\n",
              "    }\n",
              "\n",
              "    .dataframe tbody tr th {\n",
              "        vertical-align: top;\n",
              "    }\n",
              "\n",
              "    .dataframe thead th {\n",
              "        text-align: right;\n",
              "    }\n",
              "</style>\n",
              "<table border=\"1\" class=\"dataframe\">\n",
              "  <thead>\n",
              "    <tr style=\"text-align: right;\">\n",
              "      <th></th>\n",
              "      <th>count</th>\n",
              "      <th>mean</th>\n",
              "      <th>std</th>\n",
              "      <th>min</th>\n",
              "      <th>25%</th>\n",
              "      <th>50%</th>\n",
              "      <th>75%</th>\n",
              "      <th>max</th>\n",
              "    </tr>\n",
              "  </thead>\n",
              "  <tbody>\n",
              "    <tr>\n",
              "      <th>Age</th>\n",
              "      <td>242.0</td>\n",
              "      <td>54.128099</td>\n",
              "      <td>8.904992</td>\n",
              "      <td>34.0</td>\n",
              "      <td>48.0</td>\n",
              "      <td>54.5</td>\n",
              "      <td>60.75</td>\n",
              "      <td>77.0</td>\n",
              "    </tr>\n",
              "    <tr>\n",
              "      <th>Rest_BP</th>\n",
              "      <td>242.0</td>\n",
              "      <td>131.396694</td>\n",
              "      <td>17.352331</td>\n",
              "      <td>94.0</td>\n",
              "      <td>120.0</td>\n",
              "      <td>130.0</td>\n",
              "      <td>140.00</td>\n",
              "      <td>200.0</td>\n",
              "    </tr>\n",
              "    <tr>\n",
              "      <th>Cholesterole</th>\n",
              "      <td>242.0</td>\n",
              "      <td>247.181818</td>\n",
              "      <td>51.235037</td>\n",
              "      <td>126.0</td>\n",
              "      <td>212.0</td>\n",
              "      <td>241.5</td>\n",
              "      <td>274.00</td>\n",
              "      <td>564.0</td>\n",
              "    </tr>\n",
              "    <tr>\n",
              "      <th>Fasting_BS</th>\n",
              "      <td>242.0</td>\n",
              "      <td>0.144628</td>\n",
              "      <td>0.352454</td>\n",
              "      <td>0.0</td>\n",
              "      <td>0.0</td>\n",
              "      <td>0.0</td>\n",
              "      <td>0.00</td>\n",
              "      <td>1.0</td>\n",
              "    </tr>\n",
              "    <tr>\n",
              "      <th>ECG</th>\n",
              "      <td>242.0</td>\n",
              "      <td>0.528926</td>\n",
              "      <td>0.516522</td>\n",
              "      <td>0.0</td>\n",
              "      <td>0.0</td>\n",
              "      <td>1.0</td>\n",
              "      <td>1.00</td>\n",
              "      <td>2.0</td>\n",
              "    </tr>\n",
              "    <tr>\n",
              "      <th>Stress_BPM</th>\n",
              "      <td>242.0</td>\n",
              "      <td>149.797521</td>\n",
              "      <td>22.935873</td>\n",
              "      <td>71.0</td>\n",
              "      <td>134.5</td>\n",
              "      <td>153.0</td>\n",
              "      <td>167.75</td>\n",
              "      <td>195.0</td>\n",
              "    </tr>\n",
              "    <tr>\n",
              "      <th>SI_Angina</th>\n",
              "      <td>242.0</td>\n",
              "      <td>0.330579</td>\n",
              "      <td>0.471396</td>\n",
              "      <td>0.0</td>\n",
              "      <td>0.0</td>\n",
              "      <td>0.0</td>\n",
              "      <td>1.00</td>\n",
              "      <td>1.0</td>\n",
              "    </tr>\n",
              "    <tr>\n",
              "      <th>Stress_STDep</th>\n",
              "      <td>242.0</td>\n",
              "      <td>0.991322</td>\n",
              "      <td>1.162148</td>\n",
              "      <td>0.0</td>\n",
              "      <td>0.0</td>\n",
              "      <td>0.6</td>\n",
              "      <td>1.60</td>\n",
              "      <td>6.2</td>\n",
              "    </tr>\n",
              "    <tr>\n",
              "      <th>Colored_Vessels</th>\n",
              "      <td>242.0</td>\n",
              "      <td>0.685950</td>\n",
              "      <td>0.985649</td>\n",
              "      <td>0.0</td>\n",
              "      <td>0.0</td>\n",
              "      <td>0.0</td>\n",
              "      <td>1.00</td>\n",
              "      <td>4.0</td>\n",
              "    </tr>\n",
              "    <tr>\n",
              "      <th>Female</th>\n",
              "      <td>242.0</td>\n",
              "      <td>0.314050</td>\n",
              "      <td>0.465098</td>\n",
              "      <td>0.0</td>\n",
              "      <td>0.0</td>\n",
              "      <td>0.0</td>\n",
              "      <td>1.00</td>\n",
              "      <td>1.0</td>\n",
              "    </tr>\n",
              "    <tr>\n",
              "      <th>Male</th>\n",
              "      <td>242.0</td>\n",
              "      <td>0.685950</td>\n",
              "      <td>0.465098</td>\n",
              "      <td>0.0</td>\n",
              "      <td>0.0</td>\n",
              "      <td>1.0</td>\n",
              "      <td>1.00</td>\n",
              "      <td>1.0</td>\n",
              "    </tr>\n",
              "    <tr>\n",
              "      <th>Angina</th>\n",
              "      <td>242.0</td>\n",
              "      <td>0.471074</td>\n",
              "      <td>0.500197</td>\n",
              "      <td>0.0</td>\n",
              "      <td>0.0</td>\n",
              "      <td>0.0</td>\n",
              "      <td>1.00</td>\n",
              "      <td>1.0</td>\n",
              "    </tr>\n",
              "    <tr>\n",
              "      <th>Atypical_Angina</th>\n",
              "      <td>242.0</td>\n",
              "      <td>0.173554</td>\n",
              "      <td>0.379510</td>\n",
              "      <td>0.0</td>\n",
              "      <td>0.0</td>\n",
              "      <td>0.0</td>\n",
              "      <td>0.00</td>\n",
              "      <td>1.0</td>\n",
              "    </tr>\n",
              "    <tr>\n",
              "      <th>Non-Anginal</th>\n",
              "      <td>242.0</td>\n",
              "      <td>0.276860</td>\n",
              "      <td>0.448374</td>\n",
              "      <td>0.0</td>\n",
              "      <td>0.0</td>\n",
              "      <td>0.0</td>\n",
              "      <td>1.00</td>\n",
              "      <td>1.0</td>\n",
              "    </tr>\n",
              "    <tr>\n",
              "      <th>Downsloping</th>\n",
              "      <td>242.0</td>\n",
              "      <td>0.475207</td>\n",
              "      <td>0.500420</td>\n",
              "      <td>0.0</td>\n",
              "      <td>0.0</td>\n",
              "      <td>0.0</td>\n",
              "      <td>1.00</td>\n",
              "      <td>1.0</td>\n",
              "    </tr>\n",
              "    <tr>\n",
              "      <th>Flatsloping</th>\n",
              "      <td>242.0</td>\n",
              "      <td>0.462810</td>\n",
              "      <td>0.499648</td>\n",
              "      <td>0.0</td>\n",
              "      <td>0.0</td>\n",
              "      <td>0.0</td>\n",
              "      <td>1.00</td>\n",
              "      <td>1.0</td>\n",
              "    </tr>\n",
              "    <tr>\n",
              "      <th>Upsloping</th>\n",
              "      <td>242.0</td>\n",
              "      <td>0.061983</td>\n",
              "      <td>0.241625</td>\n",
              "      <td>0.0</td>\n",
              "      <td>0.0</td>\n",
              "      <td>0.0</td>\n",
              "      <td>0.00</td>\n",
              "      <td>1.0</td>\n",
              "    </tr>\n",
              "  </tbody>\n",
              "</table>\n",
              "</div>"
            ],
            "text/plain": [
              "                 count        mean        std  ...    50%     75%    max\n",
              "Age              242.0   54.128099   8.904992  ...   54.5   60.75   77.0\n",
              "Rest_BP          242.0  131.396694  17.352331  ...  130.0  140.00  200.0\n",
              "Cholesterole     242.0  247.181818  51.235037  ...  241.5  274.00  564.0\n",
              "Fasting_BS       242.0    0.144628   0.352454  ...    0.0    0.00    1.0\n",
              "ECG              242.0    0.528926   0.516522  ...    1.0    1.00    2.0\n",
              "Stress_BPM       242.0  149.797521  22.935873  ...  153.0  167.75  195.0\n",
              "SI_Angina        242.0    0.330579   0.471396  ...    0.0    1.00    1.0\n",
              "Stress_STDep     242.0    0.991322   1.162148  ...    0.6    1.60    6.2\n",
              "Colored_Vessels  242.0    0.685950   0.985649  ...    0.0    1.00    4.0\n",
              "Female           242.0    0.314050   0.465098  ...    0.0    1.00    1.0\n",
              "Male             242.0    0.685950   0.465098  ...    1.0    1.00    1.0\n",
              "Angina           242.0    0.471074   0.500197  ...    0.0    1.00    1.0\n",
              "Atypical_Angina  242.0    0.173554   0.379510  ...    0.0    0.00    1.0\n",
              "Non-Anginal      242.0    0.276860   0.448374  ...    0.0    1.00    1.0\n",
              "Downsloping      242.0    0.475207   0.500420  ...    0.0    1.00    1.0\n",
              "Flatsloping      242.0    0.462810   0.499648  ...    0.0    1.00    1.0\n",
              "Upsloping        242.0    0.061983   0.241625  ...    0.0    0.00    1.0\n",
              "\n",
              "[17 rows x 8 columns]"
            ]
          },
          "metadata": {
            "tags": []
          },
          "execution_count": 9
        }
      ]
    },
    {
      "cell_type": "code",
      "metadata": {
        "id": "2FQ3ZHxuC98z"
      },
      "source": [
        "train_labels = train_dataset.pop('Diagnose')\n",
        "test_labels = test_dataset.pop('Diagnose')\n",
        "\n",
        "# Normalize Data\n",
        "def norm(x):\n",
        "  return (x - train_stats['mean']) / train_stats['std']\n",
        "\n",
        "normed_train_data = norm(train_dataset)\n",
        "normed_test_data = norm(test_dataset)"
      ],
      "execution_count": null,
      "outputs": []
    },
    {
      "cell_type": "markdown",
      "metadata": {
        "id": "1HycfmCEDLaZ"
      },
      "source": [
        "# Building Model"
      ]
    },
    {
      "cell_type": "code",
      "metadata": {
        "colab": {
          "base_uri": "https://localhost:8080/"
        },
        "id": "GUnzLGKYDKxM",
        "outputId": "6197a847-eef7-4ec0-a635-37a933d650ec"
      },
      "source": [
        "def build_model():\n",
        "  model = keras.Sequential([\n",
        "    layers.Dense(64, activation='tanh', input_shape=[len(train_dataset.keys())]),\n",
        "    layers.Dense(36, activation='tanh'),\n",
        "    layers.Dense(18, activation='tanh'),\n",
        "    layers.Dense(1, activation='sigmoid'),\n",
        "  ])\n",
        "\n",
        "  optimizer = tf.keras.optimizers.RMSprop(0.001)\n",
        "  tf.keras.metrics.BinaryAccuracy(\n",
        "    name=\"binary_accuracy\", dtype=None, threshold=0.6\n",
        "  )\n",
        "  model.compile(loss='mse',\n",
        "                optimizer=optimizer,\n",
        "                metrics=[tf.keras.metrics.BinaryAccuracy()])\n",
        "\n",
        "  return model\n",
        "\n",
        "model = build_model()\n",
        "model.summary()\n",
        "!pip install visualkeras\n"
      ],
      "execution_count": null,
      "outputs": [
        {
          "output_type": "stream",
          "text": [
            "Model: \"sequential_1\"\n",
            "_________________________________________________________________\n",
            "Layer (type)                 Output Shape              Param #   \n",
            "=================================================================\n",
            "dense_4 (Dense)              (None, 64)                1152      \n",
            "_________________________________________________________________\n",
            "dense_5 (Dense)              (None, 36)                2340      \n",
            "_________________________________________________________________\n",
            "dense_6 (Dense)              (None, 18)                666       \n",
            "_________________________________________________________________\n",
            "dense_7 (Dense)              (None, 1)                 19        \n",
            "=================================================================\n",
            "Total params: 4,177\n",
            "Trainable params: 4,177\n",
            "Non-trainable params: 0\n",
            "_________________________________________________________________\n",
            "Requirement already satisfied: visualkeras in /usr/local/lib/python3.7/dist-packages (0.0.2)\n",
            "Requirement already satisfied: numpy>=1.18.1 in /usr/local/lib/python3.7/dist-packages (from visualkeras) (1.19.5)\n",
            "Requirement already satisfied: pillow>=6.2.0 in /usr/local/lib/python3.7/dist-packages (from visualkeras) (7.1.2)\n",
            "Requirement already satisfied: aggdraw>=1.3.11 in /usr/local/lib/python3.7/dist-packages (from visualkeras) (1.3.12)\n"
          ],
          "name": "stdout"
        }
      ]
    },
    {
      "cell_type": "code",
      "metadata": {
        "colab": {
          "base_uri": "https://localhost:8080/",
          "height": 80
        },
        "id": "s_oRzCoppW1e",
        "outputId": "e2e68ab1-d524-42e1-eb39-0ee366597a0d"
      },
      "source": [
        "import visualkeras\n",
        "\n",
        "visualkeras.layered_view(model, legend=True)  # font is optional!"
      ],
      "execution_count": null,
      "outputs": [
        {
          "output_type": "execute_result",
          "data": {
            "image/png": "[encoded data removed]",
            "text/plain": [
              "<PIL.Image.Image image mode=RGBA size=137x63 at 0x7F4EA0FCBF10>"
            ]
          },
          "metadata": {
            "tags": []
          },
          "execution_count": 16
        }
      ]
    },
    {
      "cell_type": "markdown",
      "metadata": {
        "id": "ufb-pJOjDZOp"
      },
      "source": [
        "Try short batch"
      ]
    },
    {
      "cell_type": "code",
      "metadata": {
        "colab": {
          "base_uri": "https://localhost:8080/"
        },
        "id": "HfghL9SFDaSN",
        "outputId": "20857f64-872c-4787-fa09-966efefa60c2"
      },
      "source": [
        "example_batch = normed_train_data[:10]\n",
        "example_result = model.predict(example_batch)\n",
        "example_result"
      ],
      "execution_count": null,
      "outputs": [
        {
          "output_type": "execute_result",
          "data": {
            "text/plain": [
              "array([[0.39459026],\n",
              "       [0.39710376],\n",
              "       [0.43280202],\n",
              "       [0.42386582],\n",
              "       [0.46291986],\n",
              "       [0.47367978],\n",
              "       [0.5165489 ],\n",
              "       [0.4616538 ],\n",
              "       [0.37624985],\n",
              "       [0.5149999 ]], dtype=float32)"
            ]
          },
          "metadata": {
            "tags": []
          },
          "execution_count": 10
        }
      ]
    },
    {
      "cell_type": "code",
      "metadata": {
        "colab": {
          "base_uri": "https://localhost:8080/"
        },
        "id": "1xbRSGSmDfjM",
        "outputId": "119e7f84-24fc-4421-95d8-310c08f4782e"
      },
      "source": [
        "EPOCHS = 500\n",
        "\n",
        "history = model.fit(\n",
        "  normed_train_data, train_labels,\n",
        "  epochs=EPOCHS, validation_split = 0.2, verbose=0,\n",
        "  callbacks=[tfdocs.modeling.EpochDots()])"
      ],
      "execution_count": null,
      "outputs": [
        {
          "output_type": "stream",
          "text": [
            "\n",
            "Epoch: 0, binary_accuracy:0.6839,  loss:0.2121,  val_binary_accuracy:0.8980,  val_loss:0.1469,  \n",
            "....................................................................................................\n",
            "Epoch: 100, binary_accuracy:0.9845,  loss:0.0146,  val_binary_accuracy:0.8980,  val_loss:0.0852,  \n",
            "....................................................................................................\n",
            "Epoch: 200, binary_accuracy:0.9896,  loss:0.0104,  val_binary_accuracy:0.8980,  val_loss:0.0876,  \n",
            "....................................................................................................\n",
            "Epoch: 300, binary_accuracy:0.9896,  loss:0.0104,  val_binary_accuracy:0.9184,  val_loss:0.0730,  \n",
            "....................................................................................................\n",
            "Epoch: 400, binary_accuracy:0.9948,  loss:0.0052,  val_binary_accuracy:0.8980,  val_loss:0.0956,  \n",
            "...................................................................................................."
          ],
          "name": "stdout"
        }
      ]
    },
    {
      "cell_type": "code",
      "metadata": {
        "colab": {
          "base_uri": "https://localhost:8080/",
          "height": 204
        },
        "id": "Syk8LUWdDj8g",
        "outputId": "28b9d2fd-6f71-4344-e487-4f75f61780f3"
      },
      "source": [
        "hist = pd.DataFrame(history.history)\n",
        "hist['epoch'] = history.epoch\n",
        "hist.tail()"
      ],
      "execution_count": null,
      "outputs": [
        {
          "output_type": "execute_result",
          "data": {
            "text/html": [
              "<div>\n",
              "<style scoped>\n",
              "    .dataframe tbody tr th:only-of-type {\n",
              "        vertical-align: middle;\n",
              "    }\n",
              "\n",
              "    .dataframe tbody tr th {\n",
              "        vertical-align: top;\n",
              "    }\n",
              "\n",
              "    .dataframe thead th {\n",
              "        text-align: right;\n",
              "    }\n",
              "</style>\n",
              "<table border=\"1\" class=\"dataframe\">\n",
              "  <thead>\n",
              "    <tr style=\"text-align: right;\">\n",
              "      <th></th>\n",
              "      <th>loss</th>\n",
              "      <th>binary_accuracy</th>\n",
              "      <th>val_loss</th>\n",
              "      <th>val_binary_accuracy</th>\n",
              "      <th>epoch</th>\n",
              "    </tr>\n",
              "  </thead>\n",
              "  <tbody>\n",
              "    <tr>\n",
              "      <th>495</th>\n",
              "      <td>0.000026</td>\n",
              "      <td>1.0</td>\n",
              "      <td>0.079125</td>\n",
              "      <td>0.918367</td>\n",
              "      <td>495</td>\n",
              "    </tr>\n",
              "    <tr>\n",
              "      <th>496</th>\n",
              "      <td>0.000021</td>\n",
              "      <td>1.0</td>\n",
              "      <td>0.079173</td>\n",
              "      <td>0.918367</td>\n",
              "      <td>496</td>\n",
              "    </tr>\n",
              "    <tr>\n",
              "      <th>497</th>\n",
              "      <td>0.000016</td>\n",
              "      <td>1.0</td>\n",
              "      <td>0.079069</td>\n",
              "      <td>0.918367</td>\n",
              "      <td>497</td>\n",
              "    </tr>\n",
              "    <tr>\n",
              "      <th>498</th>\n",
              "      <td>0.000017</td>\n",
              "      <td>1.0</td>\n",
              "      <td>0.079230</td>\n",
              "      <td>0.918367</td>\n",
              "      <td>498</td>\n",
              "    </tr>\n",
              "    <tr>\n",
              "      <th>499</th>\n",
              "      <td>0.000013</td>\n",
              "      <td>1.0</td>\n",
              "      <td>0.079022</td>\n",
              "      <td>0.918367</td>\n",
              "      <td>499</td>\n",
              "    </tr>\n",
              "  </tbody>\n",
              "</table>\n",
              "</div>"
            ],
            "text/plain": [
              "         loss  binary_accuracy  val_loss  val_binary_accuracy  epoch\n",
              "495  0.000026              1.0  0.079125             0.918367    495\n",
              "496  0.000021              1.0  0.079173             0.918367    496\n",
              "497  0.000016              1.0  0.079069             0.918367    497\n",
              "498  0.000017              1.0  0.079230             0.918367    498\n",
              "499  0.000013              1.0  0.079022             0.918367    499"
            ]
          },
          "metadata": {
            "tags": []
          },
          "execution_count": 12
        }
      ]
    },
    {
      "cell_type": "code",
      "metadata": {
        "id": "I1YBaPaxDm0Y"
      },
      "source": [
        "plotter = tfdocs.plots.HistoryPlotter(smoothing_std=2)"
      ],
      "execution_count": null,
      "outputs": []
    },
    {
      "cell_type": "code",
      "metadata": {
        "colab": {
          "base_uri": "https://localhost:8080/",
          "height": 300
        },
        "id": "zsfLo8PoDok3",
        "outputId": "d1cb2def-d202-4793-b101-4cfd13932492"
      },
      "source": [
        "plotter.plot({'Basic': history}, metric = \"binary_accuracy\")\n",
        "plt.ylim([0, 1])\n",
        "plt.ylabel('Binary Accuracy')"
      ],
      "execution_count": null,
      "outputs": [
        {
          "output_type": "execute_result",
          "data": {
            "text/plain": [
              "Text(0, 0.5, 'Binary Accuracy')"
            ]
          },
          "metadata": {
            "tags": []
          },
          "execution_count": 14
        },
        {
          "output_type": "display_data",
          "data": {
            "image/png": "[encoded data removed]",
            "text/plain": [
              "<Figure size 432x288 with 1 Axes>"
            ]
          },
          "metadata": {
            "tags": [],
            "needs_background": "light"
          }
        }
      ]
    },
    {
      "cell_type": "code",
      "metadata": {
        "colab": {
          "base_uri": "https://localhost:8080/"
        },
        "id": "KCnAIS3ODtHG",
        "outputId": "6cadc29e-1620-4b21-e6d4-8c03cbdef3ad"
      },
      "source": [
        "model = build_model()\n",
        "\n",
        "# The patience parameter is the amount of epochs to check for improvement\n",
        "early_stop = keras.callbacks.EarlyStopping(monitor='val_loss', patience=20)\n",
        "\n",
        "early_history = model.fit(normed_train_data, train_labels, \n",
        "                    epochs=EPOCHS, validation_split = 0.2, verbose=0, \n",
        "                    callbacks=[early_stop, tfdocs.modeling.EpochDots()])"
      ],
      "execution_count": null,
      "outputs": [
        {
          "output_type": "stream",
          "text": [
            "\n",
            "Epoch: 0, binary_accuracy:0.7409,  loss:0.1895,  val_binary_accuracy:0.8367,  val_loss:0.1565,  \n",
            "........................................................"
          ],
          "name": "stdout"
        }
      ]
    },
    {
      "cell_type": "code",
      "metadata": {
        "colab": {
          "base_uri": "https://localhost:8080/",
          "height": 300
        },
        "id": "Us32399eDw3V",
        "outputId": "1261b1ae-7add-42a2-9aca-9e1c3c411eaf"
      },
      "source": [
        "plotter.plot({'Early Stopping': early_history}, metric = \"binary_accuracy\")\n",
        "plt.ylim([0, 1])\n",
        "plt.ylabel('Binary Accuracy')"
      ],
      "execution_count": null,
      "outputs": [
        {
          "output_type": "execute_result",
          "data": {
            "text/plain": [
              "Text(0, 0.5, 'Binary Accuracy')"
            ]
          },
          "metadata": {
            "tags": []
          },
          "execution_count": 37
        },
        {
          "output_type": "display_data",
          "data": {
            "image/png": "[encoded data removed]",
            "text/plain": [
              "<Figure size 432x288 with 1 Axes>"
            ]
          },
          "metadata": {
            "tags": [],
            "needs_background": "light"
          }
        }
      ]
    },
    {
      "cell_type": "code",
      "metadata": {
        "colab": {
          "base_uri": "https://localhost:8080/"
        },
        "id": "fgaWrvpnD09D",
        "outputId": "b117216c-1c42-4a35-a80c-48b5a322d49e"
      },
      "source": [
        "loss, mae = model.evaluate(normed_test_data, test_labels, verbose=2)\n",
        "\n",
        "print(\"Testing set Mean Abs Error: {:5.2f} MPG\".format(mae))"
      ],
      "execution_count": null,
      "outputs": [
        {
          "output_type": "stream",
          "text": [
            "2/2 - 0s - loss: 0.0999 - binary_accuracy: 0.8852\n",
            "Testing set Mean Abs Error:  0.89 MPG\n"
          ],
          "name": "stdout"
        }
      ]
    },
    {
      "cell_type": "code",
      "metadata": {
        "colab": {
          "base_uri": "https://localhost:8080/"
        },
        "id": "5loQTmBk7tZb",
        "outputId": "ddd74260-6aed-44a3-a1d1-45832770826a"
      },
      "source": [
        "test_predictions = model.predict(normed_test_data).flatten()\n",
        "\n",
        "test_predictions"
      ],
      "execution_count": null,
      "outputs": [
        {
          "output_type": "execute_result",
          "data": {
            "text/plain": [
              "array([0.90843236, 0.9394666 , 0.7456    , 0.7360772 , 0.902405  ,\n",
              "       0.79960144, 0.9581001 , 0.8678713 , 0.9782887 , 0.93823683,\n",
              "       0.12003025, 0.95179105, 0.9665448 , 0.81446785, 0.93571067,\n",
              "       0.71737564, 0.95135105, 0.6771382 , 0.9786563 , 0.95605415,\n",
              "       0.79144096, 0.8397509 , 0.9740967 , 0.69081104, 0.05075634,\n",
              "       0.97474086, 0.9731271 , 0.959399  , 0.98091245, 0.7822555 ,\n",
              "       0.80106914, 0.02162454, 0.3541867 , 0.58139426, 0.02651912,\n",
              "       0.9456415 , 0.30027914, 0.15898845, 0.10360685, 0.14343968,\n",
              "       0.02025804, 0.20377547, 0.38586664, 0.23572764, 0.08858007,\n",
              "       0.02585953, 0.04883248, 0.03317836, 0.03307334, 0.02627662,\n",
              "       0.1402852 , 0.1623098 , 0.3463252 , 0.2061032 , 0.72277224,\n",
              "       0.9600028 , 0.5038534 , 0.04662526, 0.14088646, 0.12495783,\n",
              "       0.02316859], dtype=float32)"
            ]
          },
          "metadata": {
            "tags": []
          },
          "execution_count": 39
        }
      ]
    },
    {
      "cell_type": "code",
      "metadata": {
        "colab": {
          "base_uri": "https://localhost:8080/",
          "height": 279
        },
        "id": "ZLD7GgcjD7oL",
        "outputId": "46465405-4542-4c2b-973e-eebcbb8192fe"
      },
      "source": [
        "\n",
        "error = test_predictions - test_labels\n",
        "plt.hist(error, bins = 100)\n",
        "\n",
        "plt.xlabel(\"Prediction Error [MPG]\")\n",
        "_ = plt.ylabel(\"Count\")"
      ],
      "execution_count": null,
      "outputs": [
        {
          "output_type": "display_data",
          "data": {
            "image/png": "[encoded data removed]",
            "text/plain": [
              "<Figure size 432x288 with 1 Axes>"
            ]
          },
          "metadata": {
            "tags": [],
            "needs_background": "light"
          }
        }
      ]
    },
    {
      "cell_type": "code",
      "metadata": {
        "colab": {
          "base_uri": "https://localhost:8080/"
        },
        "id": "XZEr03quD-S1",
        "outputId": "a4b2d93b-473f-462a-899f-9c4f8ac9d44e"
      },
      "source": [
        "\n",
        "print(np.mean(error))\n",
        "print(np.std(error))\n",
        "print(len(error))\n",
        "model.save('trained_model.h5')"
      ],
      "execution_count": null,
      "outputs": [
        {
          "output_type": "stream",
          "text": [
            "0.029114062180284592\n",
            "0.3146762003657088\n",
            "61\n"
          ],
          "name": "stdout"
        }
      ]
    },
    {
      "cell_type": "code",
      "metadata": {
        "colab": {
          "base_uri": "https://localhost:8080/"
        },
        "id": "4s6J_LsOEz5u",
        "outputId": "3beda246-8dfa-4470-e870-21c6d80ce37d"
      },
      "source": [
        "test_dataset_merged = pd.DataFrame(test_labels, columns=['Diagnose'])\n",
        "#test_dataset_merged['Diagnose'] = test_labels\n",
        "test_dataset_merged['Prediction'] = test_predictions\n",
        "\n",
        "with pd.option_context('display.max_rows', None, 'display.max_columns', None):  # more options can be specified also\n",
        "    print(test_dataset_merged)"
      ],
      "execution_count": null,
      "outputs": [
        {
          "output_type": "stream",
          "text": [
            "     Diagnose  Prediction\n",
            "1           1    0.908432\n",
            "9           1    0.939467\n",
            "17          1    0.745600\n",
            "25          1    0.736077\n",
            "28          1    0.902405\n",
            "31          1    0.799601\n",
            "32          1    0.958100\n",
            "35          1    0.867871\n",
            "38          1    0.978289\n",
            "39          1    0.938237\n",
            "42          1    0.120030\n",
            "47          1    0.951791\n",
            "53          1    0.966545\n",
            "57          1    0.814468\n",
            "65          1    0.935711\n",
            "70          1    0.717376\n",
            "72          1    0.951351\n",
            "79          1    0.677138\n",
            "87          1    0.978656\n",
            "88          1    0.956054\n",
            "99          1    0.791441\n",
            "105         1    0.839751\n",
            "115         1    0.974097\n",
            "117         1    0.690811\n",
            "120         1    0.050756\n",
            "127         1    0.974741\n",
            "128         1    0.973127\n",
            "132         1    0.959399\n",
            "147         1    0.980912\n",
            "151         1    0.782255\n",
            "163         1    0.801069\n",
            "165         0    0.021625\n",
            "169         0    0.354187\n",
            "172         0    0.581394\n",
            "174         0    0.026519\n",
            "177         0    0.945642\n",
            "183         0    0.300279\n",
            "185         0    0.158988\n",
            "186         0    0.103607\n",
            "192         0    0.143440\n",
            "193         0    0.020258\n",
            "195         0    0.203775\n",
            "197         0    0.385867\n",
            "202         0    0.235728\n",
            "211         0    0.088580\n",
            "231         0    0.025860\n",
            "242         0    0.048832\n",
            "243         0    0.033178\n",
            "244         0    0.033073\n",
            "251         0    0.026277\n",
            "260         0    0.140285\n",
            "265         0    0.162310\n",
            "267         0    0.346325\n",
            "271         0    0.206103\n",
            "273         0    0.722772\n",
            "277         0    0.960003\n",
            "278         0    0.503853\n",
            "280         0    0.046625\n",
            "289         0    0.140886\n",
            "291         0    0.124958\n",
            "292         0    0.023169\n"
          ],
          "name": "stdout"
        }
      ]
    }
  ]
}